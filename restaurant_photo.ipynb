{
  "cells": [
    {
      "cell_type": "code",
      "execution_count": null,
      "id": "f2b39374-2e21-4ffc-8b48-fff47f292702",
      "metadata": {
        "id": "f2b39374-2e21-4ffc-8b48-fff47f292702"
      },
      "outputs": [],
      "source": [
        "from pyspark.sql import SparkSession\n",
        "\n",
        "spark = SparkSession\\\n",
        "    .builder\\\n",
        "    .appName(\"myApp\")\\\n",
        "    .config(\"spark.jars.packages\", \"org.mongodb.spark:mongo-spark-connector_2.12:3.0.1\")\\\n",
        "    .config(\"spark.sql.repl.eagerEval.enabled\", True)\\\n",
        "    .getOrCreate()"
      ]
    },
    {
      "cell_type": "code",
      "execution_count": null,
      "id": "93912650-2932-43e9-be95-c9b03a2c8310",
      "metadata": {
        "id": "93912650-2932-43e9-be95-c9b03a2c8310"
      },
      "outputs": [],
      "source": [
        "business = spark\\\n",
        "    .read\\\n",
        "    .format(\"com.mongodb.spark.sql.DefaultSource\")\\\n",
        "    .option(\"uri\", \"mongodb://host.docker.internal:7017/yelp.business\")\\\n",
        "    .load()"
      ]
    },
    {
      "cell_type": "code",
      "execution_count": null,
      "id": "c0486bb8-7413-4208-b6e9-0e9d9af31c3f",
      "metadata": {
        "tags": [],
        "id": "c0486bb8-7413-4208-b6e9-0e9d9af31c3f",
        "outputId": "6f37cc6b-bc3d-4349-814e-80f2e6ca0f66"
      },
      "outputs": [
        {
          "name": "stdout",
          "output_type": "stream",
          "text": [
            "root\n",
            " |-- _id: struct (nullable = true)\n",
            " |    |-- oid: string (nullable = true)\n",
            " |-- address: string (nullable = true)\n",
            " |-- attributes: struct (nullable = true)\n",
            " |    |-- AcceptsInsurance: string (nullable = true)\n",
            " |    |-- AgesAllowed: string (nullable = true)\n",
            " |    |-- Alcohol: string (nullable = true)\n",
            " |    |-- Ambience: string (nullable = true)\n",
            " |    |-- BYOB: string (nullable = true)\n",
            " |    |-- BYOBCorkage: string (nullable = true)\n",
            " |    |-- BestNights: string (nullable = true)\n",
            " |    |-- BikeParking: string (nullable = true)\n",
            " |    |-- BusinessAcceptsBitcoin: string (nullable = true)\n",
            " |    |-- BusinessAcceptsCreditCards: string (nullable = true)\n",
            " |    |-- BusinessParking: string (nullable = true)\n",
            " |    |-- ByAppointmentOnly: string (nullable = true)\n",
            " |    |-- Caters: string (nullable = true)\n",
            " |    |-- CoatCheck: string (nullable = true)\n",
            " |    |-- Corkage: string (nullable = true)\n",
            " |    |-- DogsAllowed: string (nullable = true)\n",
            " |    |-- DriveThru: string (nullable = true)\n",
            " |    |-- GoodForDancing: string (nullable = true)\n",
            " |    |-- GoodForKids: string (nullable = true)\n",
            " |    |-- GoodForMeal: string (nullable = true)\n",
            " |    |-- HairSpecializesIn: string (nullable = true)\n",
            " |    |-- HappyHour: string (nullable = true)\n",
            " |    |-- HasTV: string (nullable = true)\n",
            " |    |-- Music: string (nullable = true)\n",
            " |    |-- NoiseLevel: string (nullable = true)\n",
            " |    |-- OutdoorSeating: string (nullable = true)\n",
            " |    |-- RestaurantsAttire: string (nullable = true)\n",
            " |    |-- RestaurantsDelivery: string (nullable = true)\n",
            " |    |-- RestaurantsGoodForGroups: string (nullable = true)\n",
            " |    |-- RestaurantsPriceRange2: string (nullable = true)\n",
            " |    |-- RestaurantsReservations: string (nullable = true)\n",
            " |    |-- RestaurantsTableService: string (nullable = true)\n",
            " |    |-- RestaurantsTakeOut: string (nullable = true)\n",
            " |    |-- Smoking: string (nullable = true)\n",
            " |    |-- WheelchairAccessible: string (nullable = true)\n",
            " |    |-- WiFi: string (nullable = true)\n",
            " |-- business_id: string (nullable = true)\n",
            " |-- categories: string (nullable = true)\n",
            " |-- city: string (nullable = true)\n",
            " |-- hours: struct (nullable = true)\n",
            " |    |-- Friday: string (nullable = true)\n",
            " |    |-- Monday: string (nullable = true)\n",
            " |    |-- Saturday: string (nullable = true)\n",
            " |    |-- Sunday: string (nullable = true)\n",
            " |    |-- Thursday: string (nullable = true)\n",
            " |    |-- Tuesday: string (nullable = true)\n",
            " |    |-- Wednesday: string (nullable = true)\n",
            " |-- is_open: integer (nullable = true)\n",
            " |-- latitude: double (nullable = true)\n",
            " |-- longitude: double (nullable = true)\n",
            " |-- name: string (nullable = true)\n",
            " |-- postal_code: string (nullable = true)\n",
            " |-- review_count: integer (nullable = true)\n",
            " |-- stars: double (nullable = true)\n",
            " |-- state: string (nullable = true)\n",
            "\n"
          ]
        }
      ],
      "source": [
        "business.printSchema()"
      ]
    },
    {
      "cell_type": "code",
      "execution_count": null,
      "id": "a0d0e116-bb2c-4cb8-84c3-bf9c705813d5",
      "metadata": {
        "id": "a0d0e116-bb2c-4cb8-84c3-bf9c705813d5"
      },
      "outputs": [],
      "source": [
        "review = spark\\\n",
        "    .read\\\n",
        "    .format(\"com.mongodb.spark.sql.DefaultSource\")\\\n",
        "    .option(\"uri\", \"mongodb://host.docker.internal:7017/yelp.review\")\\\n",
        "    .load()"
      ]
    },
    {
      "cell_type": "code",
      "execution_count": null,
      "id": "464e5a17-69c3-4b1a-8879-1a11a1b58eae",
      "metadata": {
        "id": "464e5a17-69c3-4b1a-8879-1a11a1b58eae",
        "outputId": "90cacee5-6c45-4911-9283-6f7a51442e7c"
      },
      "outputs": [
        {
          "name": "stdout",
          "output_type": "stream",
          "text": [
            "root\n",
            " |-- _id: struct (nullable = true)\n",
            " |    |-- oid: string (nullable = true)\n",
            " |-- business_id: string (nullable = true)\n",
            " |-- cool: integer (nullable = true)\n",
            " |-- date: string (nullable = true)\n",
            " |-- funny: integer (nullable = true)\n",
            " |-- review_id: string (nullable = true)\n",
            " |-- stars: integer (nullable = true)\n",
            " |-- text: string (nullable = true)\n",
            " |-- useful: integer (nullable = true)\n",
            " |-- user_id: string (nullable = true)\n",
            "\n"
          ]
        }
      ],
      "source": [
        "review.printSchema()"
      ]
    },
    {
      "cell_type": "code",
      "execution_count": null,
      "id": "b7cd1e22-42b4-4252-9889-a87bb1edb8d6",
      "metadata": {
        "id": "b7cd1e22-42b4-4252-9889-a87bb1edb8d6"
      },
      "outputs": [],
      "source": [
        "tip = spark\\\n",
        "    .read\\\n",
        "    .format(\"com.mongodb.spark.sql.DefaultSource\")\\\n",
        "    .option(\"uri\", \"mongodb://host.docker.internal:7017/yelp.tip\")\\\n",
        "    .load()"
      ]
    },
    {
      "cell_type": "code",
      "execution_count": null,
      "id": "614a28f9-3b9c-4e1a-ba9f-ab36096ee8b3",
      "metadata": {
        "id": "614a28f9-3b9c-4e1a-ba9f-ab36096ee8b3",
        "outputId": "cb6a350f-361a-456c-a445-06da17208bb3"
      },
      "outputs": [
        {
          "name": "stdout",
          "output_type": "stream",
          "text": [
            "root\n",
            " |-- _id: struct (nullable = true)\n",
            " |    |-- oid: string (nullable = true)\n",
            " |-- business_id: string (nullable = true)\n",
            " |-- compliment_count: integer (nullable = true)\n",
            " |-- date: string (nullable = true)\n",
            " |-- text: string (nullable = true)\n",
            " |-- user_id: string (nullable = true)\n",
            "\n"
          ]
        }
      ],
      "source": [
        "tip.printSchema()"
      ]
    },
    {
      "cell_type": "code",
      "execution_count": null,
      "id": "c0dd0c0e-d177-4f30-84ec-32a62b3c1a73",
      "metadata": {
        "id": "c0dd0c0e-d177-4f30-84ec-32a62b3c1a73"
      },
      "outputs": [],
      "source": [
        "photo = spark\\\n",
        "    .read\\\n",
        "    .format(\"com.mongodb.spark.sql.DefaultSource\")\\\n",
        "    .option(\"uri\", \"mongodb://host.docker.internal:7017/yelp.photo\")\\\n",
        "    .load()"
      ]
    },
    {
      "cell_type": "code",
      "execution_count": null,
      "id": "e4711ac3-a5d0-4e94-8b10-29ecbbfa09f2",
      "metadata": {
        "id": "e4711ac3-a5d0-4e94-8b10-29ecbbfa09f2",
        "outputId": "433eac2f-fd4e-4e8a-b907-d35dac95900d"
      },
      "outputs": [
        {
          "name": "stdout",
          "output_type": "stream",
          "text": [
            "root\n",
            " |-- _id: struct (nullable = true)\n",
            " |    |-- oid: string (nullable = true)\n",
            " |-- business_id: string (nullable = true)\n",
            " |-- caption: string (nullable = true)\n",
            " |-- label: string (nullable = true)\n",
            " |-- photo_id: string (nullable = true)\n",
            "\n"
          ]
        }
      ],
      "source": [
        "photo.printSchema()"
      ]
    },
    {
      "cell_type": "code",
      "execution_count": null,
      "id": "288c4e34-457a-403a-bd68-fd60f1ac365c",
      "metadata": {
        "id": "288c4e34-457a-403a-bd68-fd60f1ac365c"
      },
      "outputs": [],
      "source": [
        "from pyspark.sql.functions import collect_list\n",
        "\n",
        "business_photos = photo.groupby('business_id')\\\n",
        "    .agg(collect_list('photo_id').alias('photo_ids'))"
      ]
    },
    {
      "cell_type": "code",
      "execution_count": null,
      "id": "1976d305-ad18-47a4-9a14-90d8de4908de",
      "metadata": {
        "id": "1976d305-ad18-47a4-9a14-90d8de4908de"
      },
      "outputs": [],
      "source": [
        "business = business.join(business_photos, on=['business_id'], how='left')"
      ]
    },
    {
      "cell_type": "code",
      "execution_count": null,
      "id": "c19dac6d-0155-4973-aa46-85da0448af9e",
      "metadata": {
        "id": "c19dac6d-0155-4973-aa46-85da0448af9e"
      },
      "outputs": [],
      "source": [
        "from pyspark.sql.functions import split, col, array_contains\n",
        "\n",
        "restaurant = business.withColumn('category_list', split(col('categories'), ', '))\\\n",
        "    .filter(array_contains(col('category_list'), 'Restaurants'))\\\n",
        "    .select('business_id', 'name', 'address', 'city', 'state', 'postal_code', 'latitude', 'longitude', 'stars', 'category_list', 'photo_ids')"
      ]
    },
    {
      "cell_type": "code",
      "execution_count": null,
      "id": "f8f39a64-cfa5-467a-b221-e12e8c47f5c9",
      "metadata": {
        "id": "f8f39a64-cfa5-467a-b221-e12e8c47f5c9"
      },
      "outputs": [],
      "source": [
        "from pyspark.sql.functions import avg\n",
        "\n",
        "business_mean_star = review.select('business_id', 'stars')\\\n",
        "    .groupBy('business_id')\\\n",
        "    .agg(avg('stars').alias('mean_star'))"
      ]
    },
    {
      "cell_type": "code",
      "execution_count": null,
      "id": "28fe28c0-3dd8-4b71-b33c-047785210bf4",
      "metadata": {
        "id": "28fe28c0-3dd8-4b71-b33c-047785210bf4"
      },
      "outputs": [],
      "source": [
        "restaurant = restaurant.join(business_mean_star, on=['business_id'], how='inner')"
      ]
    },
    {
      "cell_type": "code",
      "execution_count": null,
      "id": "6fc146aa-e43f-455c-9ff5-134a58847dfa",
      "metadata": {
        "id": "6fc146aa-e43f-455c-9ff5-134a58847dfa"
      },
      "outputs": [],
      "source": [
        "restaurant.write\\\n",
        "    .format(\"com.mongodb.spark.sql.DefaultSource\")\\\n",
        "    .option(\"uri\", \"mongodb://host.docker.internal:7017/yelp.restaurant\")\\\n",
        "    .save()"
      ]
    },
    {
      "cell_type": "code",
      "execution_count": null,
      "id": "5f5c3328-6a05-4f10-873f-0b658b838bd3",
      "metadata": {
        "id": "5f5c3328-6a05-4f10-873f-0b658b838bd3"
      },
      "outputs": [],
      "source": []
    }
  ],
  "metadata": {
    "kernelspec": {
      "display_name": "Python 3 (ipykernel)",
      "language": "python",
      "name": "python3"
    },
    "language_info": {
      "codemirror_mode": {
        "name": "ipython",
        "version": 3
      },
      "file_extension": ".py",
      "mimetype": "text/x-python",
      "name": "python",
      "nbconvert_exporter": "python",
      "pygments_lexer": "ipython3",
      "version": "3.10.8"
    },
    "colab": {
      "provenance": []
    }
  },
  "nbformat": 4,
  "nbformat_minor": 5
}