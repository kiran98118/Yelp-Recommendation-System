{
  "cells": [
    {
      "cell_type": "code",
      "execution_count": null,
      "id": "9c9dea3d",
      "metadata": {
        "id": "9c9dea3d",
        "outputId": "fbd561b9-400a-4656-c66c-dd8162b1a29a"
      },
      "outputs": [
        {
          "name": "stdout",
          "output_type": "stream",
          "text": [
            "+-----------+-----------------+----------+-----------+---------+\n",
            "|postal_code|    category_name|mean_stars|cnt_reviews|sum_stars|\n",
            "+-----------+-----------------+----------+-----------+---------+\n",
            "|      19147|             Thai|      3.84|       1015|   3897.6|\n",
            "|      19107|             Bars|      3.83|      32548|124658.84|\n",
            "|      19104|       Car Rental|      3.82|         38|   145.16|\n",
            "|      19103|   Cardio Classes|      4.05|        172|    696.6|\n",
            "|      19146|Printing Services|      4.45|         11|    48.95|\n",
            "+-----------+-----------------+----------+-----------+---------+\n",
            "only showing top 5 rows\n",
            "\n"
          ]
        }
      ],
      "source": [
        "from pyspark.sql import SparkSession\n",
        "from pyspark.sql.functions import explode,split,avg,count,round,col,sum\n",
        "spark = SparkSession.builder.getOrCreate()\n",
        "\n",
        "df = spark.read.option(\"header\",True).csv(\"phi.csv\",inferSchema=True)\n",
        "df = df.withColumn('sum_stars', col(\"mean_stars\")*col(\"cnt_reviews\"))\n",
        "df.show(5)"
      ]
    },
    {
      "cell_type": "code",
      "execution_count": null,
      "id": "13899048",
      "metadata": {
        "id": "13899048",
        "outputId": "5c3ec762-823b-4d09-c7db-69577dcc78b9"
      },
      "outputs": [
        {
          "name": "stdout",
          "output_type": "stream",
          "text": [
            "+--------------------+----------------+------------------+------------------+\n",
            "|       category_name|cnt_reviews_cate|    sum_stars_cate|   mean_stars_cate|\n",
            "+--------------------+----------------+------------------+------------------+\n",
            "|    Historical Tours|             570|            2347.0| 4.117543859649123|\n",
            "|      Paddleboarding|              80|            345.88|            4.3235|\n",
            "|      Dermatologists|             640|           2123.13|3.3173906250000003|\n",
            "|             Beaches|            1629|           7046.89| 4.325899324739104|\n",
            "|       Videographers|             171| 776.7099999999999| 4.542163742690058|\n",
            "|       Skating Rinks|             426|           1488.02|3.4930046948356805|\n",
            "|     Pet Photography|              16|             78.08|              4.88|\n",
            "|       Data Recovery|             568|           2545.02| 4.480669014084507|\n",
            "|              Fondue|             254|             937.4| 3.690551181102362|\n",
            "|        Aerial Tours|               6|              30.0|               5.0|\n",
            "|         Boat Repair|               5|              16.0|               3.2|\n",
            "|               Reiki|             482|           2126.71| 4.412261410788382|\n",
            "|            Day Spas|            9673| 38756.11999999999| 4.006628760467279|\n",
            "|         Hobby Shops|             895|           3677.87| 4.109351955307263|\n",
            "|            Honduran|             280|           1261.85| 4.506607142857143|\n",
            "|          Bubble Tea|            8681|          34546.66|  3.97957147794033|\n",
            "|          Gymnastics|              66|            291.02| 4.409393939393939|\n",
            "|         Shoe Repair|             894|           3435.42| 3.842751677852349|\n",
            "|Child Care & Day ...|             425|1554.2700000000002| 3.657105882352942|\n",
            "|              Tennis|             122|            524.09| 4.295819672131148|\n",
            "+--------------------+----------------+------------------+------------------+\n",
            "only showing top 20 rows\n",
            "\n"
          ]
        }
      ],
      "source": [
        "\n",
        "tmp = df.groupBy(\"category_name\").agg(\\\n",
        "        sum(\"cnt_reviews\").alias(\"cnt_reviews_cate\"),\\\n",
        "        sum(\"sum_stars\").alias(\"sum_stars_cate\"))\n",
        "\n",
        "\n",
        "tmp = tmp.withColumn(\"mean_stars_cate\", col(\"sum_stars_cate\")/col(\"cnt_reviews_cate\"))\n",
        "tmp.show()"
      ]
    },
    {
      "cell_type": "code",
      "execution_count": null,
      "id": "c2ff0ca1",
      "metadata": {
        "id": "c2ff0ca1",
        "outputId": "b79ad8bd-de81-46f2-da9d-498cd5f04bd6"
      },
      "outputs": [
        {
          "name": "stdout",
          "output_type": "stream",
          "text": [
            "+-----------+-----------------+----------+-----------+---------+\n",
            "|postal_code|    category_name|mean_stars|cnt_reviews|sum_stars|\n",
            "+-----------+-----------------+----------+-----------+---------+\n",
            "|      19147|             Thai|      3.84|       1015|   3897.6|\n",
            "|      19107|             Bars|      3.83|      32548|124658.84|\n",
            "|      19104|       Car Rental|      3.82|         38|   145.16|\n",
            "|      19103|   Cardio Classes|      4.05|        172|    696.6|\n",
            "|      19146|Printing Services|      4.45|         11|    48.95|\n",
            "+-----------+-----------------+----------+-----------+---------+\n",
            "only showing top 5 rows\n",
            "\n"
          ]
        }
      ],
      "source": [
        "tmp.coalesce(1).write.option(\"header\",\"true\").format(\"csv\").save(\"out3\")"
      ]
    }
  ],
  "metadata": {
    "kernelspec": {
      "display_name": "Python 3.11.0 64-bit",
      "language": "python",
      "name": "python3"
    },
    "language_info": {
      "codemirror_mode": {
        "name": "ipython",
        "version": 3
      },
      "file_extension": ".py",
      "mimetype": "text/x-python",
      "name": "python",
      "nbconvert_exporter": "python",
      "pygments_lexer": "ipython3",
      "version": "3.11.0"
    },
    "vscode": {
      "interpreter": {
        "hash": "3c735adcabe6fbc37afe7ca3389fd3961f4864c18377415bd09ec533cf51b765"
      }
    },
    "colab": {
      "provenance": []
    }
  },
  "nbformat": 4,
  "nbformat_minor": 5
}