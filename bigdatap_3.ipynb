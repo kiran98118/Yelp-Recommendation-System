{
  "cells": [
    {
      "cell_type": "code",
      "execution_count": null,
      "id": "ec77059d-b590-4839-8d30-5cc89a00aa16",
      "metadata": {
        "id": "ec77059d-b590-4839-8d30-5cc89a00aa16",
        "outputId": "d90aa700-c718-45fe-f54b-e577e4c1beb1"
      },
      "outputs": [
        {
          "name": "stdout",
          "output_type": "stream",
          "text": [
            "Defaulting to user installation because normal site-packages is not writeable\n",
            "Requirement already satisfied: pyspark in /opt/conda/envs/bigdata-fall22/lib/python3.7/site-packages (3.3.0)\n",
            "Requirement already satisfied: py4j==0.10.9.5 in /opt/conda/envs/bigdata-fall22/lib/python3.7/site-packages (from pyspark) (0.10.9.5)\n"
          ]
        }
      ],
      "source": [
        "!pip install pyspark\n"
      ]
    },
    {
      "cell_type": "code",
      "execution_count": null,
      "id": "b9c3ac0f-b9d2-45f4-9d49-cd4ca47392ad",
      "metadata": {
        "id": "b9c3ac0f-b9d2-45f4-9d49-cd4ca47392ad",
        "outputId": "1fd20608-a2e3-4046-a7a1-0c97d6c35d98"
      },
      "outputs": [
        {
          "name": "stderr",
          "output_type": "stream",
          "text": [
            "Setting default log level to \"WARN\".\n",
            "To adjust logging level use sc.setLogLevel(newLevel). For SparkR, use setLogLevel(newLevel).\n"
          ]
        },
        {
          "name": "stdout",
          "output_type": "stream",
          "text": [
            "22/12/21 16:46:40 WARN NativeCodeLoader: Unable to load native-hadoop library for your platform... using builtin-java classes where applicable\n"
          ]
        }
      ],
      "source": [
        "import os\n",
        "import matplotlib.pyplot as plt\n",
        "import IPython\n",
        "from pyspark.sql import SparkSession\n",
        "\n",
        "spark = SparkSession.builder.appName('yelp-spark').getOrCreate()"
      ]
    },
    {
      "cell_type": "code",
      "execution_count": null,
      "id": "26afc293-f034-4446-b8fa-a89776d5a54f",
      "metadata": {
        "id": "26afc293-f034-4446-b8fa-a89776d5a54f",
        "outputId": "dce44c00-5e4a-46b8-e272-580124364fd8"
      },
      "outputs": [
        {
          "name": "stderr",
          "output_type": "stream",
          "text": [
            "                                                                                \r"
          ]
        },
        {
          "name": "stdout",
          "output_type": "stream",
          "text": [
            "22/12/21 16:46:56 WARN package: Truncated the string representation of a plan since it was too large. This behavior can be adjusted by setting 'spark.sql.debug.maxToStringFields'.\n"
          ]
        }
      ],
      "source": [
        "reviews = spark.read.json('BigData_Project Dataset/yelp_academic_dataset_review.json')\n",
        "businesses = spark.read.json('BigData_Project Dataset/yelp_academic_dataset_business.json')\n"
      ]
    },
    {
      "cell_type": "code",
      "execution_count": null,
      "id": "6d142da2-9a7c-48b6-9895-66334751e619",
      "metadata": {
        "id": "6d142da2-9a7c-48b6-9895-66334751e619"
      },
      "outputs": [],
      "source": [
        "rc = reviews.join(businesses, reviews.business_id == businesses.business_id, \"left\").drop(businesses.stars)"
      ]
    },
    {
      "cell_type": "code",
      "execution_count": null,
      "id": "e03d795f-aa51-4b6f-8410-9af389850eb1",
      "metadata": {
        "id": "e03d795f-aa51-4b6f-8410-9af389850eb1",
        "outputId": "ec748979-537d-449d-f150-4ebac0ca93c4"
      },
      "outputs": [
        {
          "name": "stderr",
          "output_type": "stream",
          "text": [
            "[Stage 6:>                                                          (0 + 1) / 1]\r"
          ]
        },
        {
          "name": "stdout",
          "output_type": "stream",
          "text": [
            "+---------------+--------------------+----+-------------------+-----+--------------------+-----+--------------------+------+--------------------+--------------------+--------------------+--------------------+--------------------+-------------+--------------------+-------+-------------+---------------+--------------------+-----------+------------+-----+\n",
            "|_corrupt_record|         business_id|cool|               date|funny|           review_id|stars|                text|useful|             user_id|             address|          attributes|         business_id|          categories|         city|               hours|is_open|     latitude|      longitude|                name|postal_code|review_count|state|\n",
            "+---------------+--------------------+----+-------------------+-----+--------------------+-----+--------------------+------+--------------------+--------------------+--------------------+--------------------+--------------------+-------------+--------------------+-------+-------------+---------------+--------------------+-----------+------------+-----+\n",
            "|           null|0qu0fNTOsSmuREYVI...|   0|2017-12-19 15:45:10|    0|Q_uAj9fquZWRh0LRr...|  5.0|OK, look, the tri...|     0|IFvSKXlyPAQNWi_ku...|  5995 Stagecoach Rd|{null, null, u'fu...|0qu0fNTOsSmuREYVI...|American (Traditi...|Santa Barbara|{11:30-20:0, 11:3...|      1|34.5216257926|-119.8405629067|  Cold Spring Tavern|      93105|        1018|   CA|\n",
            "|           null|2er_V-oAd7IbQ5YTY...|   0|2018-03-19 01:33:49|    0|xri2sNZ4hvWrk-IFz...|  5.0|My wife enjoyed h...|     0|0U3qmzDoLi9hGR2Sk...|      1109 Walnut St|{null, null, u'fu...|2er_V-oAd7IbQ5YTY...|Restaurants, Burg...| Philadelphia|{12:0-22:0, 0:0-0...|      0|   39.9489334|    -75.1595088|Bareburger - Midt...|      19107|         622|   PA|\n",
            "|           null|7ATYjTIgM3jUlt4UM...|   1|2012-01-03 15:28:18|    0|BiTunyQ73aT9WBnpR...|  5.0|I've taken a lot ...|     1|OyoGAe7OKpv6SyGZT...|1923 Chestnut St,...|{null, null, null...|7ATYjTIgM3jUlt4UM...|Active Life, Cycl...| Philadelphia|{6:0-19:30, 6:30-...|      0|   39.9521029|    -75.1727526|Body Cycle Spinni...|      19119|         144|   PA|\n",
            "|           null|B5XSoSG3SfvQGtKEG...|   0|2016-03-30 22:46:33|    1|ZKvDG2sBvHVdF5oBN...|  3.0|This easter inste...|     1|wSTuiTk-sKNdcFypr...|  San Marcos Pass Rd|{null, null, null...|B5XSoSG3SfvQGtKEG...|  Parks, Active Life|Santa Barbara|                null|      1|    34.597239|    -119.510772|Los Padres Nation...|      93105|          13|   CA|\n",
            "|           null|CUt7emZVW-jxixD7B...|   3|2017-03-30 16:41:24|    2|hxe1WXtH8IbWfNNUC...|  5.0|There's not many ...|     5|y7H-4bWuX3eqC7C11...|    306 E Evesham Rd|{null, null, u'no...|CUt7emZVW-jxixD7B...|Comfort Food, San...|     Glendora|{null, 0:0-0:0, 1...|      0|   39.8460689|    -75.0653295|Steve's Grilled C...|      08029|          40|   NJ|\n",
            "|           null|Jmplyut1DhQBueicC...|   0|2013-06-04 19:34:41|    0|0crYMUZctDUjN5PTI...|  5.0|I bought a deal t...|     6|FWGpp7UAMv8pZfrm_...|3302 Chestnut Hil...|{null, null, null...|Jmplyut1DhQBueicC...|Home Organization...|    Pottstown|{9:0-17:0, 9:0-18...|      0|40.1783612525| -75.6925054246|     Gingerly Packed|      19465|           7|   PA|\n",
            "|           null|UCMSWPqzXjd7QHq7v...|   0|2014-05-30 19:12:07|    4|q8xux0ZArIARgIZjj...|  1.0|The cafe is very ...|     2|2_cbUO7F2vXKq7r69...| 2660 N Campbell Ave|{null, null, u'fu...|UCMSWPqzXjd7QHq7v...|Restaurants, Cock...|       Tucson|{7:0-15:0, 0:0-0:...|      1|  32.25552801|  -110.94349236|       Prep & Pastry|      85719|        2126|   AZ|\n",
            "|           null|XVUIROVl8Bmme3prp...|   0|2014-12-04 03:59:07|    0|6YO-KZCkqzxfGWqOB...|  5.0|I hate being on c...|     0|T3LEPYp4S5XlOvFde...|        457A Whitman|{null, null, null...|XVUIROVl8Bmme3prp...|Event Planning & ...|       Goleta|{0:0-0:0, 0:0-0:0...|      1|   34.4239314|   -119.8718742|    I Heart My Groom|      93117|          20|   CA|\n",
            "|           null|boIphU_TlxlMJHfFr...|   0|2018-08-06 17:42:12|    0|WCX9bDzGPoqFMstry...|  4.0|I went to the dri...|     0|KPqCAOSQWsuGeTlTk...|6346 North Oracle Rd|{null, null, 'non...|boIphU_TlxlMJHfFr...|Restaurants, Burg...|       Tucson|{9:0-23:0, 9:0-22...|      1|   32.3219813|   -110.9740882|     Wienerschnitzel|      85704|          28|   AZ|\n",
            "|           null|e4Vwtrqf-wpJfwesg...|   1|2017-01-14 20:54:15|    0|Sx8TMOWLNuJBWer-0...|  4.0|Cute interior and...|     1|bcjbaE6dDog4jkNY9...|       2549 Banks St|{null, null, u'fu...|e4Vwtrqf-wpJfwesg...|Sandwiches, Beer,...|  New Orleans|{11:0-17:0, 0:0-0...|      0|    29.962102|     -90.087958|                Melt|      70119|          32|   LA|\n",
            "+---------------+--------------------+----+-------------------+-----+--------------------+-----+--------------------+------+--------------------+--------------------+--------------------+--------------------+--------------------+-------------+--------------------+-------+-------------+---------------+--------------------+-----------+------------+-----+\n",
            "only showing top 10 rows\n",
            "\n"
          ]
        },
        {
          "name": "stderr",
          "output_type": "stream",
          "text": [
            "                                                                                \r"
          ]
        }
      ],
      "source": [
        "rc.show(10)"
      ]
    },
    {
      "cell_type": "code",
      "execution_count": null,
      "id": "042955d0-c133-45f5-912f-6b2c432e6e33",
      "metadata": {
        "id": "042955d0-c133-45f5-912f-6b2c432e6e33"
      },
      "outputs": [],
      "source": [
        "import pyspark.sql.functions as f\n",
        "rc = rc.withColumn('wordCount', f.size(f.split(f.col('text'), ' ')))"
      ]
    },
    {
      "cell_type": "code",
      "execution_count": null,
      "id": "acd68f24-a16e-4527-b8b6-aa4500381cb5",
      "metadata": {
        "id": "acd68f24-a16e-4527-b8b6-aa4500381cb5",
        "outputId": "c5f9e992-baf6-419b-ddbf-34da23bb025a"
      },
      "outputs": [
        {
          "name": "stderr",
          "output_type": "stream",
          "text": [
            "                                                                                \r"
          ]
        },
        {
          "name": "stdout",
          "output_type": "stream",
          "text": [
            "+--------------------+--------------------+--------------------+---------+-----+\n",
            "|                name|          categories|                text|wordCount|stars|\n",
            "+--------------------+--------------------+--------------------+---------+-----+\n",
            "|Turning Point of ...|Restaurants, Brea...|If you decide to ...|      101|  3.0|\n",
            "|   Kettle Restaurant|Restaurants, Brea...|Family diner. Had...|       55|  3.0|\n",
            "|               Zaika|Halal, Pakistani,...|Wow!  Yummy, diff...|       48|  5.0|\n",
            "|                Melt|Sandwiches, Beer,...|Cute interior and...|       94|  4.0|\n",
            "|            Dmitri's|Mediterranean, Re...|I am a long term ...|       65|  1.0|\n",
            "|     Fries Rebellion|Beer Bar, Bars, A...|Amazingly amazing...|       27|  5.0|\n",
            "|Hibachi Steak Hou...|Steakhouses, Sush...|Had a party of 6 ...|       99|  3.0|\n",
            "|           Milktooth|Beer, Wine & Spir...|Locals recommende...|       19|  4.0|\n",
            "| Brio Italian Grille|Bars, Pizza, Nigh...|Love going here f...|       47|  4.0|\n",
            "|           LaScala's|Pizza, Restaurant...|Good food--loved ...|       29|  4.0|\n",
            "+--------------------+--------------------+--------------------+---------+-----+\n",
            "only showing top 10 rows\n",
            "\n"
          ]
        }
      ],
      "source": [
        "from pyspark.sql.functions import col\n",
        "rc.filter(col(\"categories\").like(\"%Restaurants%\")).select('name' , 'categories', 'text', 'wordCount', 'stars').show(10)"
      ]
    },
    {
      "cell_type": "code",
      "execution_count": null,
      "id": "746f1b93-e529-4bf4-95e0-2cc02ec21203",
      "metadata": {
        "id": "746f1b93-e529-4bf4-95e0-2cc02ec21203"
      },
      "outputs": [],
      "source": [
        "# x = rc.filter(col(\"categories\").like(\"%Restaurants%\")).select('name' , 'categories', 'text', 'wordCount', 'stars')\n",
        "x = rc.select('name' , 'categories', 'text', 'wordCount', 'stars', 'city', 'postal_code', 'state')"
      ]
    },
    {
      "cell_type": "markdown",
      "id": "558c1e99-c538-42f6-83fc-b506cc37bcda",
      "metadata": {
        "id": "558c1e99-c538-42f6-83fc-b506cc37bcda"
      },
      "source": [
        "### for each star review(1-5), we show the number of reviews for each unique word count"
      ]
    },
    {
      "cell_type": "code",
      "execution_count": null,
      "id": "74387dfb-d759-45af-9764-4461bf13b111",
      "metadata": {
        "id": "74387dfb-d759-45af-9764-4461bf13b111",
        "outputId": "7efc32c1-ed2f-4a4a-e9c5-f8c9add73e1d"
      },
      "outputs": [
        {
          "name": "stderr",
          "output_type": "stream",
          "text": [
            "                                                                                \r"
          ]
        },
        {
          "data": {
            "text/html": [
              "<div>\n",
              "<style scoped>\n",
              "    .dataframe tbody tr th:only-of-type {\n",
              "        vertical-align: middle;\n",
              "    }\n",
              "\n",
              "    .dataframe tbody tr th {\n",
              "        vertical-align: top;\n",
              "    }\n",
              "\n",
              "    .dataframe thead th {\n",
              "        text-align: right;\n",
              "    }\n",
              "</style>\n",
              "<table border=\"1\" class=\"dataframe\">\n",
              "  <thead>\n",
              "    <tr style=\"text-align: right;\">\n",
              "      <th></th>\n",
              "      <th>wordCount</th>\n",
              "      <th>count</th>\n",
              "    </tr>\n",
              "  </thead>\n",
              "  <tbody>\n",
              "    <tr>\n",
              "      <th>0</th>\n",
              "      <td>48</td>\n",
              "      <td>187</td>\n",
              "    </tr>\n",
              "    <tr>\n",
              "      <th>1</th>\n",
              "      <td>40</td>\n",
              "      <td>185</td>\n",
              "    </tr>\n",
              "    <tr>\n",
              "      <th>2</th>\n",
              "      <td>46</td>\n",
              "      <td>182</td>\n",
              "    </tr>\n",
              "    <tr>\n",
              "      <th>3</th>\n",
              "      <td>53</td>\n",
              "      <td>180</td>\n",
              "    </tr>\n",
              "    <tr>\n",
              "      <th>4</th>\n",
              "      <td>52</td>\n",
              "      <td>170</td>\n",
              "    </tr>\n",
              "    <tr>\n",
              "      <th>...</th>\n",
              "      <td>...</td>\n",
              "      <td>...</td>\n",
              "    </tr>\n",
              "    <tr>\n",
              "      <th>742</th>\n",
              "      <td>947</td>\n",
              "      <td>1</td>\n",
              "    </tr>\n",
              "    <tr>\n",
              "      <th>743</th>\n",
              "      <td>755</td>\n",
              "      <td>1</td>\n",
              "    </tr>\n",
              "    <tr>\n",
              "      <th>744</th>\n",
              "      <td>643</td>\n",
              "      <td>1</td>\n",
              "    </tr>\n",
              "    <tr>\n",
              "      <th>745</th>\n",
              "      <td>521</td>\n",
              "      <td>1</td>\n",
              "    </tr>\n",
              "    <tr>\n",
              "      <th>746</th>\n",
              "      <td>1009</td>\n",
              "      <td>1</td>\n",
              "    </tr>\n",
              "  </tbody>\n",
              "</table>\n",
              "<p>747 rows × 2 columns</p>\n",
              "</div>"
            ],
            "text/plain": [
              "     wordCount  count\n",
              "0           48    187\n",
              "1           40    185\n",
              "2           46    182\n",
              "3           53    180\n",
              "4           52    170\n",
              "..         ...    ...\n",
              "742        947      1\n",
              "743        755      1\n",
              "744        643      1\n",
              "745        521      1\n",
              "746       1009      1\n",
              "\n",
              "[747 rows x 2 columns]"
            ]
          },
          "execution_count": 66,
          "metadata": {},
          "output_type": "execute_result"
        }
      ],
      "source": [
        "x_star1 = x.filter(x.stars == 1.0).groupBy(\"wordCount\").count().orderBy(col('count').desc())\n",
        "x_star1 = x_star1.toPandas()\n"
      ]
    },
    {
      "cell_type": "code",
      "execution_count": null,
      "id": "81fe93e5-07d3-402d-81f4-3aadde89ef30",
      "metadata": {
        "id": "81fe93e5-07d3-402d-81f4-3aadde89ef30",
        "outputId": "ae31865f-e0f3-475a-997c-e02d491ecb95"
      },
      "outputs": [
        {
          "data": {
            "text/plain": [
              "<AxesSubplot:xlabel='wordCount'>"
            ]
          },
          "execution_count": 67,
          "metadata": {},
          "output_type": "execute_result"
        },
        {
          "data": {
            "image/png": "[encoded data removed]",
            "text/plain": [
              "<Figure size 640x480 with 1 Axes>"
            ]
          },
          "metadata": {},
          "output_type": "display_data"
        }
      ],
      "source": [
        "x_star1.head(200).plot.bar(x = 'wordCount', y = 'count', rot = 1)"
      ]
    },
    {
      "cell_type": "code",
      "execution_count": null,
      "id": "d4ae27ac-4a79-4204-80a3-10fceb10cb93",
      "metadata": {
        "id": "d4ae27ac-4a79-4204-80a3-10fceb10cb93",
        "outputId": "665d8b63-6041-4354-a06c-cdac824e2546"
      },
      "outputs": [
        {
          "ename": "SyntaxError",
          "evalue": "unexpected EOF while parsing (4232132275.py, line 4)",
          "output_type": "error",
          "traceback": [
            "\u001b[0;36m  File \u001b[0;32m\"/tmp/ipykernel_70/4232132275.py\"\u001b[0;36m, line \u001b[0;32m4\u001b[0m\n\u001b[0;31m    # y = x_star1.select('count')\u001b[0m\n\u001b[0m                                 ^\u001b[0m\n\u001b[0;31mSyntaxError\u001b[0m\u001b[0;31m:\u001b[0m unexpected EOF while parsing\n"
          ]
        }
      ],
      "source": [
        "# from pyspark.sql.functions import col\n",
        "# df.select(col(\"wordCount\").show(10)\n",
        "# x = x_star1.select('wordCount')\n",
        "# y = x_star1.select('count')"
      ]
    },
    {
      "cell_type": "code",
      "execution_count": null,
      "id": "30fc1042-bfc5-425f-8b72-abfba03f10e6",
      "metadata": {
        "id": "30fc1042-bfc5-425f-8b72-abfba03f10e6"
      },
      "outputs": [],
      "source": [
        "import matplotlib.pyplot as plt\n",
        "import numpy as np"
      ]
    },
    {
      "cell_type": "code",
      "execution_count": null,
      "id": "52e321fd-66ee-4ee7-8227-deab4e686de6",
      "metadata": {
        "id": "52e321fd-66ee-4ee7-8227-deab4e686de6",
        "outputId": "99c54a3c-bdd6-47ed-cf08-cc075b5336f8"
      },
      "outputs": [
        {
          "data": {
            "image/png": "[encoded data removed]",
            "text/plain": [
              "<Figure size 640x480 with 1 Axes>"
            ]
          },
          "metadata": {},
          "output_type": "display_data"
        }
      ],
      "source": [
        "x_star1['wordCount'] = x_star1['wordCount'].astype(float)\n",
        "x_star1['count'] = x_star1['count'].astype(float)\n",
        "\n",
        "# plot\n",
        "fig, ax = plt.subplots()\n",
        "\n",
        "ax.bar(x_star1['wordCount'], x_star1['count'], width=1, linewidth = 0.9)\n",
        "\n",
        "# ax.set(xlim=(0, 8), xticks=np.arange(1, 8),\n",
        "#        ylim=(0, 8), yticks=np.arange(1, 8))\n",
        "\n",
        "plt.title('1 star')\n",
        "plt.xlabel('wordCount')\n",
        "plt.ylabel('No. of reviews')\n",
        "\n",
        "plt.show()"
      ]
    },
    {
      "cell_type": "code",
      "execution_count": null,
      "id": "44913fb4-712a-4dae-9998-95b4d00a0b46",
      "metadata": {
        "id": "44913fb4-712a-4dae-9998-95b4d00a0b46",
        "outputId": "c5b87e13-125e-407e-ed64-30e41ac57744"
      },
      "outputs": [
        {
          "ename": "AttributeError",
          "evalue": "'DataFrame' object has no attribute 'plot'",
          "output_type": "error",
          "traceback": [
            "\u001b[0;31m---------------------------------------------------------------------------\u001b[0m",
            "\u001b[0;31mAttributeError\u001b[0m                            Traceback (most recent call last)",
            "\u001b[0;32m/tmp/ipykernel_70/2692813719.py\u001b[0m in \u001b[0;36m<module>\u001b[0;34m\u001b[0m\n\u001b[0;32m----> 1\u001b[0;31m \u001b[0mx_star1\u001b[0m\u001b[0;34m.\u001b[0m\u001b[0mplot\u001b[0m\u001b[0;34m(\u001b[0m\u001b[0mkind\u001b[0m\u001b[0;34m=\u001b[0m\u001b[0;34m'bar'\u001b[0m\u001b[0;34m)\u001b[0m\u001b[0;34m\u001b[0m\u001b[0;34m\u001b[0m\u001b[0m\n\u001b[0m",
            "\u001b[0;32m/opt/conda/envs/bigdata-fall22/lib/python3.7/site-packages/pyspark/sql/dataframe.py\u001b[0m in \u001b[0;36m__getattr__\u001b[0;34m(self, name)\u001b[0m\n\u001b[1;32m   1987\u001b[0m         \u001b[0;32mif\u001b[0m \u001b[0mname\u001b[0m \u001b[0;32mnot\u001b[0m \u001b[0;32min\u001b[0m \u001b[0mself\u001b[0m\u001b[0;34m.\u001b[0m\u001b[0mcolumns\u001b[0m\u001b[0;34m:\u001b[0m\u001b[0;34m\u001b[0m\u001b[0;34m\u001b[0m\u001b[0m\n\u001b[1;32m   1988\u001b[0m             raise AttributeError(\n\u001b[0;32m-> 1989\u001b[0;31m                 \u001b[0;34m\"'%s' object has no attribute '%s'\"\u001b[0m \u001b[0;34m%\u001b[0m \u001b[0;34m(\u001b[0m\u001b[0mself\u001b[0m\u001b[0;34m.\u001b[0m\u001b[0m__class__\u001b[0m\u001b[0;34m.\u001b[0m\u001b[0m__name__\u001b[0m\u001b[0;34m,\u001b[0m \u001b[0mname\u001b[0m\u001b[0;34m)\u001b[0m\u001b[0;34m\u001b[0m\u001b[0;34m\u001b[0m\u001b[0m\n\u001b[0m\u001b[1;32m   1990\u001b[0m             )\n\u001b[1;32m   1991\u001b[0m         \u001b[0mjc\u001b[0m \u001b[0;34m=\u001b[0m \u001b[0mself\u001b[0m\u001b[0;34m.\u001b[0m\u001b[0m_jdf\u001b[0m\u001b[0;34m.\u001b[0m\u001b[0mapply\u001b[0m\u001b[0;34m(\u001b[0m\u001b[0mname\u001b[0m\u001b[0;34m)\u001b[0m\u001b[0;34m\u001b[0m\u001b[0;34m\u001b[0m\u001b[0m\n",
            "\u001b[0;31mAttributeError\u001b[0m: 'DataFrame' object has no attribute 'plot'"
          ]
        }
      ],
      "source": [
        "x_star1.plot(kind='bar')"
      ]
    },
    {
      "cell_type": "code",
      "execution_count": null,
      "id": "2dc08b59-fda2-46d7-b796-4a38975ff2bf",
      "metadata": {
        "id": "2dc08b59-fda2-46d7-b796-4a38975ff2bf",
        "outputId": "02eb79e1-a3bb-4baf-82a6-fe4f64137e8f"
      },
      "outputs": [
        {
          "name": "stderr",
          "output_type": "stream",
          "text": [
            "[Stage 96:=============================>                            (1 + 1) / 2]\r"
          ]
        },
        {
          "name": "stdout",
          "output_type": "stream",
          "text": [
            "+---------+-----+\n",
            "|wordCount|count|\n",
            "+---------+-----+\n",
            "|       47|  124|\n",
            "|       46|  121|\n",
            "|       57|  121|\n",
            "|       53|  118|\n",
            "|       59|  118|\n",
            "|       54|  115|\n",
            "|       48|  115|\n",
            "|       78|  115|\n",
            "|       51|  114|\n",
            "|       63|  114|\n",
            "+---------+-----+\n",
            "only showing top 10 rows\n",
            "\n"
          ]
        },
        {
          "name": "stderr",
          "output_type": "stream",
          "text": [
            "                                                                                \r"
          ]
        }
      ],
      "source": [
        "x.filter(x.stars == 2.0).groupBy(\"wordCount\").count().orderBy(col('count').desc()).show(10)"
      ]
    },
    {
      "cell_type": "code",
      "execution_count": null,
      "id": "0d4f57f8-9ffe-4cc7-95d3-3a46143ad974",
      "metadata": {
        "id": "0d4f57f8-9ffe-4cc7-95d3-3a46143ad974",
        "outputId": "439b86f9-0e84-4f7e-e202-dd30e1fd7adb"
      },
      "outputs": [
        {
          "name": "stderr",
          "output_type": "stream",
          "text": [
            "[Stage 100:>                                                        (0 + 2) / 2]\r"
          ]
        },
        {
          "name": "stdout",
          "output_type": "stream",
          "text": [
            "+---------+-----+\n",
            "|wordCount|count|\n",
            "+---------+-----+\n",
            "|       48|  181|\n",
            "|       43|  177|\n",
            "|       54|  176|\n",
            "|       45|  176|\n",
            "|       30|  175|\n",
            "|       63|  173|\n",
            "|       66|  172|\n",
            "|       53|  172|\n",
            "|       55|  171|\n",
            "|       38|  171|\n",
            "+---------+-----+\n",
            "only showing top 10 rows\n",
            "\n"
          ]
        },
        {
          "name": "stderr",
          "output_type": "stream",
          "text": [
            "                                                                                \r"
          ]
        }
      ],
      "source": [
        "x.filter(x.stars == 3.0).groupBy(\"wordCount\").count().orderBy(col('count').desc()).show(10)"
      ]
    },
    {
      "cell_type": "code",
      "execution_count": null,
      "id": "04f013a9-3e30-41ff-8f44-df5bf714d12e",
      "metadata": {
        "id": "04f013a9-3e30-41ff-8f44-df5bf714d12e",
        "outputId": "67129a2c-eff0-44ad-d51b-04841d51608a"
      },
      "outputs": [
        {
          "name": "stderr",
          "output_type": "stream",
          "text": [
            "[Stage 104:>                                                        (0 + 2) / 2]\r"
          ]
        },
        {
          "name": "stdout",
          "output_type": "stream",
          "text": [
            "+---------+-----+\n",
            "|wordCount|count|\n",
            "+---------+-----+\n",
            "|       28|  467|\n",
            "|       43|  461|\n",
            "|       40|  457|\n",
            "|       35|  456|\n",
            "|       30|  456|\n",
            "|       38|  453|\n",
            "|       29|  447|\n",
            "|       47|  446|\n",
            "|       41|  445|\n",
            "|       39|  444|\n",
            "+---------+-----+\n",
            "only showing top 10 rows\n",
            "\n"
          ]
        },
        {
          "name": "stderr",
          "output_type": "stream",
          "text": [
            "                                                                                \r"
          ]
        }
      ],
      "source": [
        "x.filter(x.stars == 4.0).groupBy(\"wordCount\").count().orderBy(col('count').desc()).show(10)"
      ]
    },
    {
      "cell_type": "code",
      "execution_count": null,
      "id": "3f81567d-8891-452a-b263-d95286db0378",
      "metadata": {
        "id": "3f81567d-8891-452a-b263-d95286db0378",
        "outputId": "11794aac-8504-4e79-ce6e-a8ba380f47ca"
      },
      "outputs": [
        {
          "name": "stderr",
          "output_type": "stream",
          "text": [
            "[Stage 108:>                                                        (0 + 2) / 2]\r"
          ]
        },
        {
          "name": "stdout",
          "output_type": "stream",
          "text": [
            "+---------+-----+\n",
            "|wordCount|count|\n",
            "+---------+-----+\n",
            "|       26| 1122|\n",
            "|       23| 1095|\n",
            "|       21| 1079|\n",
            "|       24| 1075|\n",
            "|       30| 1070|\n",
            "|       28| 1047|\n",
            "|       25| 1043|\n",
            "|       27| 1035|\n",
            "|       35| 1031|\n",
            "|       37| 1026|\n",
            "+---------+-----+\n",
            "only showing top 10 rows\n",
            "\n"
          ]
        },
        {
          "name": "stderr",
          "output_type": "stream",
          "text": [
            "                                                                                \r"
          ]
        }
      ],
      "source": [
        "x.filter(x.stars == 5.0).groupBy(\"wordCount\").count().orderBy(col('count').desc()).show(10)"
      ]
    },
    {
      "cell_type": "markdown",
      "id": "ffc690ef-8b39-4a30-8070-55436ab903b2",
      "metadata": {
        "id": "ffc690ef-8b39-4a30-8070-55436ab903b2"
      },
      "source": [
        "## 4-5 : People are happy , giving praises and appreciation leading to lesser word count in the text\n",
        "\n",
        "## 1-3 : People are not happy, giving criticism, complains, suggestions which leads to higher word count in the text"
      ]
    },
    {
      "cell_type": "markdown",
      "id": "1432d2c2-fcbf-4fb5-b6c9-a62548439d1b",
      "metadata": {
        "id": "1432d2c2-fcbf-4fb5-b6c9-a62548439d1b"
      },
      "source": [
        "### For each stars, get average wordcount and plot it\n",
        "\n",
        "### For reviews 4.0 to 5.0, average word count is lesser than for reviews with stars 1.0 to 3.0 so we infer that happy reviews are not as big as negative reviews"
      ]
    },
    {
      "cell_type": "code",
      "execution_count": null,
      "id": "ba0aa421-5b93-4661-a2dc-d6b39c95e565",
      "metadata": {
        "id": "ba0aa421-5b93-4661-a2dc-d6b39c95e565"
      },
      "outputs": [],
      "source": [
        "x_star_avg = x.filter(x.stars <= 5.0).groupBy(\"stars\").agg({'wordCount':'avg' }).orderBy(col('stars').asc())"
      ]
    },
    {
      "cell_type": "code",
      "execution_count": null,
      "id": "53baa440-fda4-4b2b-9625-b46438fb79e9",
      "metadata": {
        "id": "53baa440-fda4-4b2b-9625-b46438fb79e9",
        "outputId": "af893a1b-a480-4851-b18e-b1a86f7b27ed"
      },
      "outputs": [
        {
          "data": {
            "image/png": "[encoded data removed]",
            "text/plain": [
              "<Figure size 640x480 with 1 Axes>"
            ]
          },
          "metadata": {},
          "output_type": "display_data"
        }
      ],
      "source": [
        "x_star_reviews = x_star_avg.toPandas()\n",
        "x_star_reviews['stars'] = x_star_reviews['stars'].astype(float)\n",
        "x_star_reviews['avg(wordCount)'] = x_star_reviews['avg(wordCount)'].astype(float)\n",
        "\n",
        "# plot\n",
        "fig, ax = plt.subplots()\n",
        "\n",
        "ax.bar(x_star_reviews['stars'], x_star_reviews['avg(wordCount)'], width=1, linewidth = 0.7)\n",
        "\n",
        "# ax.set(xlim=(0, 8), xticks=np.arange(1, 8),\n",
        "#        ylim=(0, 8), yticks=np.arange(1, 8))\n",
        "\n",
        "plt.title('Avg Word count for each star rating')\n",
        "plt.xlabel('Star')\n",
        "plt.ylabel('Avg. word count')\n",
        "\n",
        "plt.show()"
      ]
    },
    {
      "cell_type": "code",
      "execution_count": null,
      "id": "5eca4497-a3cb-4ec5-ba22-88613e898d67",
      "metadata": {
        "id": "5eca4497-a3cb-4ec5-ba22-88613e898d67",
        "outputId": "a302780f-b92a-4f8f-fb60-f90cd7ae493c"
      },
      "outputs": [
        {
          "name": "stderr",
          "output_type": "stream",
          "text": [
            "[Stage 132:>                                                        (0 + 2) / 2]\r"
          ]
        },
        {
          "name": "stdout",
          "output_type": "stream",
          "text": [
            "+--------------------+-----+-----+\n",
            "|                name|stars|count|\n",
            "+--------------------+-----+-----+\n",
            "|                null| null|    1|\n",
            "|\"No Macarena\" DJ ...|  5.0|    4|\n",
            "|      $1.99 Cleaners|  5.0|    1|\n",
            "|         '81 Barbers|  5.0|    1|\n",
            "|              'feine|  1.0|    1|\n",
            "|              'feine|  2.0|    3|\n",
            "|              'feine|  3.0|    6|\n",
            "|              'feine|  4.0|   10|\n",
            "|              'feine|  5.0|   31|\n",
            "|           +1 Gaming|  5.0|    1|\n",
            "|        1 Stop Pizza|  5.0|    1|\n",
            "|    1 Tippling Place|  1.0|    2|\n",
            "|    1 Tippling Place|  2.0|    5|\n",
            "|    1 Tippling Place|  3.0|   14|\n",
            "|    1 Tippling Place|  4.0|   47|\n",
            "|    1 Tippling Place|  5.0|   59|\n",
            "|1-275 Rest Area M...|  4.0|    1|\n",
            "|1-275 Rest Area M...|  5.0|    1|\n",
            "|1-800-GOT-JUNK? N...|  5.0|    4|\n",
            "|1-800-GOT-JUNK? S...|  1.0|    1|\n",
            "|1-800-GOT-JUNK? S...|  5.0|    4|\n",
            "|   1-Hour Auto Glass|  5.0|    6|\n",
            "|101 Taiwanese Cui...|  1.0|   17|\n",
            "|101 Taiwanese Cui...|  2.0|   20|\n",
            "|101 Taiwanese Cui...|  3.0|   48|\n",
            "|101 Taiwanese Cui...|  4.0|  131|\n",
            "|101 Taiwanese Cui...|  5.0|  185|\n",
            "| 10th Street Italian|  3.0|    1|\n",
            "| 10th Street Italian|  4.0|    4|\n",
            "| 12 South Inn Suites|  5.0|    2|\n",
            "+--------------------+-----+-----+\n",
            "only showing top 30 rows\n",
            "\n"
          ]
        },
        {
          "name": "stderr",
          "output_type": "stream",
          "text": [
            "                                                                                \r"
          ]
        }
      ],
      "source": [
        "x.groupBy(\"name\",\"stars\").count().orderBy(col('name').asc(), col('stars').asc()).show(30)"
      ]
    },
    {
      "cell_type": "code",
      "execution_count": null,
      "id": "472613c9-2217-4844-ad2f-c45b1071affb",
      "metadata": {
        "id": "472613c9-2217-4844-ad2f-c45b1071affb"
      },
      "outputs": [],
      "source": [
        "r = x.groupBy(\"name\",\"stars\").count().orderBy(col('name').asc(), col('stars').asc())"
      ]
    },
    {
      "cell_type": "code",
      "execution_count": null,
      "id": "7606b652-992d-4981-bb87-16f7a0c00bc9",
      "metadata": {
        "id": "7606b652-992d-4981-bb87-16f7a0c00bc9",
        "outputId": "00201180-10c9-47a8-ad9a-e1d80e53d1c8"
      },
      "outputs": [
        {
          "name": "stderr",
          "output_type": "stream",
          "text": [
            "[Stage 242:>                                                        (0 + 2) / 2]\r"
          ]
        },
        {
          "name": "stdout",
          "output_type": "stream",
          "text": [
            "+--------------------+---+---+---+---+---+\n",
            "|                name|1.0|2.0|3.0|4.0|5.0|\n",
            "+--------------------+---+---+---+---+---+\n",
            "|\"No Macarena\" DJ ...|  0|  0|  0|  0|  4|\n",
            "|      $1.99 Cleaners|  0|  0|  0|  0|  1|\n",
            "|         '81 Barbers|  0|  0|  0|  0|  1|\n",
            "|              'feine|  1|  3|  6| 10| 31|\n",
            "|           +1 Gaming|  0|  0|  0|  0|  1|\n",
            "|        1 Stop Pizza|  0|  0|  0|  0|  1|\n",
            "|    1 Tippling Place|  2|  5| 14| 47| 59|\n",
            "|1-275 Rest Area M...|  0|  0|  0|  1|  1|\n",
            "|1-800-GOT-JUNK? N...|  0|  0|  0|  0|  4|\n",
            "|1-800-GOT-JUNK? S...|  1|  0|  0|  0|  4|\n",
            "|   1-Hour Auto Glass|  0|  0|  0|  0|  6|\n",
            "|101 Taiwanese Cui...| 17| 20| 48|131|185|\n",
            "| 10th Street Italian|  0|  0|  1|  4|  0|\n",
            "| 12 South Inn Suites|  0|  0|  0|  0|  2|\n",
            "|12 South Winter W...|  0|  0|  0|  0|  8|\n",
            "|       12 South Yoga|  0|  0|  0|  0|  8|\n",
            "|      1200 Chophouse|  5|  4|  8| 30| 88|\n",
            "|    124 Grand Market|  0|  0|  1|  2|  3|\n",
            "|       12th & Porter|  4|  1|  3|  4|  7|\n",
            "|1501 Linden Manor...|  0|  0|  1|  1|  6|\n",
            "+--------------------+---+---+---+---+---+\n",
            "only showing top 20 rows\n",
            "\n"
          ]
        },
        {
          "name": "stderr",
          "output_type": "stream",
          "text": [
            "                                                                                \r"
          ]
        }
      ],
      "source": [
        "r.filter(r.stars <= 5.0).groupBy('name').pivot('stars').sum('count').fillna(0).orderBy(col('name').asc()).show()"
      ]
    },
    {
      "cell_type": "code",
      "execution_count": null,
      "id": "e4d7198a-6939-4573-b0f1-e83fa90e0fee",
      "metadata": {
        "id": "e4d7198a-6939-4573-b0f1-e83fa90e0fee",
        "outputId": "44eac591-75cc-4dcb-f81c-dffd7ef6669a"
      },
      "outputs": [
        {
          "name": "stderr",
          "output_type": "stream",
          "text": [
            "[Stage 124:============================>                            (1 + 1) / 2]\r"
          ]
        },
        {
          "name": "stdout",
          "output_type": "stream",
          "text": [
            "+----+-----+-----+\n",
            "|name|stars|count|\n",
            "+----+-----+-----+\n",
            "|Luke|  5.0|  885|\n",
            "|Luke|  4.0|  566|\n",
            "|Luke|  3.0|  238|\n",
            "|Luke|  2.0|  108|\n",
            "|Luke|  1.0|   73|\n",
            "+----+-----+-----+\n",
            "\n"
          ]
        },
        {
          "name": "stderr",
          "output_type": "stream",
          "text": [
            "                                                                                \r"
          ]
        }
      ],
      "source": [
        "x.filter(x.name == \"Luke\").groupBy(\"name\",\"stars\").count().orderBy(col('count').desc()).show(10)"
      ]
    },
    {
      "cell_type": "code",
      "execution_count": null,
      "id": "98645c53-a22a-4ed3-935b-969ca4e71a41",
      "metadata": {
        "id": "98645c53-a22a-4ed3-935b-969ca4e71a41"
      },
      "outputs": [],
      "source": [
        "r = x.groupBy(\"name\",\"stars\",\"city\",\"postal_code\").count().orderBy(col('name').asc(), col('stars').asc())"
      ]
    },
    {
      "cell_type": "code",
      "execution_count": null,
      "id": "67018bcf-bed6-4299-a92b-d6c0b55e8e8e",
      "metadata": {
        "id": "67018bcf-bed6-4299-a92b-d6c0b55e8e8e",
        "outputId": "2f5df826-f00d-4988-ed7e-427d4e084250"
      },
      "outputs": [
        {
          "name": "stderr",
          "output_type": "stream",
          "text": [
            "[Stage 265:>                                                        (0 + 2) / 2]\r"
          ]
        },
        {
          "name": "stdout",
          "output_type": "stream",
          "text": [
            "+--------------------+--------------+-----------+---+---+---+---+---+\n",
            "|                name|          city|postal_code|1.0|2.0|3.0|4.0|5.0|\n",
            "+--------------------+--------------+-----------+---+---+---+---+---+\n",
            "|\"No Macarena\" DJ ...|  Philadelphia|      19118|  0|  0|  0|  0|  4|\n",
            "|      $1.99 Cleaners|          Lutz|      33559|  0|  0|  0|  0|  1|\n",
            "|         '81 Barbers|        Tucson|      85705|  0|  0|  0|  0|  1|\n",
            "|              'feine|  Conshohocken|      19428|  1|  3|  6| 10| 31|\n",
            "|           +1 Gaming|      Metairie|      70001|  0|  0|  0|  0|  1|\n",
            "|        1 Stop Pizza|  Philadelphia|      19140|  0|  0|  0|  0|  1|\n",
            "|    1 Tippling Place|  Philadelphia|      19103|  2|  5| 14| 47| 59|\n",
            "|1-275 Rest Area M...|    Terra Ceia|      34250|  0|  0|  0|  1|  1|\n",
            "|1-800-GOT-JUNK? N...|     Westville|      08093|  0|  0|  0|  0|  4|\n",
            "|1-800-GOT-JUNK? S...|   Saint Louis|      63130|  1|  0|  0|  0|  4|\n",
            "|   1-Hour Auto Glass|        Tucson|      85742|  0|  0|  0|  0|  6|\n",
            "|101 Taiwanese Cui...|          Reno|      89503| 17| 20| 48|131|185|\n",
            "| 10th Street Italian|   Saint Louis|      63101|  0|  0|  1|  4|  0|\n",
            "| 12 South Inn Suites|     Nashville|      37204|  0|  0|  0|  0|  2|\n",
            "|12 South Winter W...|     Nashville|      37204|  0|  0|  0|  0|  8|\n",
            "|       12 South Yoga|     Nashville|      37204|  0|  0|  0|  0|  8|\n",
            "|      1200 Chophouse|St. Petersburg|      33706|  5|  4|  8| 30| 88|\n",
            "|    124 Grand Market|      Edmonton|    T6A 2T3|  0|  0|  1|  2|  3|\n",
            "|       12th & Porter|     Nashville|      37203|  4|  1|  3|  4|  7|\n",
            "|1501 Linden Manor...|     Nashville|      37212|  0|  0|  1|  1|  6|\n",
            "+--------------------+--------------+-----------+---+---+---+---+---+\n",
            "only showing top 20 rows\n",
            "\n"
          ]
        },
        {
          "name": "stderr",
          "output_type": "stream",
          "text": [
            "                                                                                \r"
          ]
        }
      ],
      "source": [
        "r.filter(r.stars <= 5.0).groupBy('name',\"city\",\"postal_code\").pivot('stars').sum('count').fillna(0).orderBy(col('name').asc()).show()"
      ]
    },
    {
      "cell_type": "code",
      "execution_count": null,
      "id": "141aa2e1-0cf7-4be9-b71f-595c8ee8674f",
      "metadata": {
        "id": "141aa2e1-0cf7-4be9-b71f-595c8ee8674f"
      },
      "outputs": [],
      "source": [
        "r = x.groupBy('state',\"stars\").count()"
      ]
    },
    {
      "cell_type": "code",
      "execution_count": null,
      "id": "1dbcf02b-0ac1-4d28-b417-7219a02f6a8b",
      "metadata": {
        "id": "1dbcf02b-0ac1-4d28-b417-7219a02f6a8b",
        "outputId": "ace1f715-1e4b-4f36-a0e5-80f7fe5310ff"
      },
      "outputs": [
        {
          "name": "stderr",
          "output_type": "stream",
          "text": [
            "                                                                                \r"
          ]
        },
        {
          "name": "stdout",
          "output_type": "stream",
          "text": [
            "+-----+------+------+------+------+------+\n",
            "|state|star_1|star_2|star_3|star_4|star_5|\n",
            "+-----+------+------+------+------+------+\n",
            "|   AB|   380|   339|   560|  1130|  1149|\n",
            "|   AZ|  1222|   835|  1070|  2616|  5085|\n",
            "|   CA|  1033|   634|   954|  2168|  5181|\n",
            "|   CO|     0|     0|     5|     4|     1|\n",
            "|   DE|   230|   126|   181|   364|   577|\n",
            "|   FL|  3377|  2201|  2911|  6522| 13417|\n",
            "|   HI|     1|     0|     0|     0|     3|\n",
            "|   ID|   341|   221|   296|   560|  1344|\n",
            "|   IL|   219|   120|   166|   315|   533|\n",
            "|   IN|  1378|  1077|  1486|  3519|  5953|\n",
            "|   LA|  2396|  1772|  2924|  6810| 12679|\n",
            "|   MO|  1657|  1257|  1780|  4065|  6645|\n",
            "|   NC|     3|     0|     0|     0|     2|\n",
            "|   NJ|   994|   645|   781|  1624|  2755|\n",
            "|   NV|  1196|   866|  1128|  2442|  5118|\n",
            "|   PA|  5585|  4534|  6328| 14013| 21232|\n",
            "|   TN|  2006|  1568|  2197|  4505|  7684|\n",
            "+-----+------+------+------+------+------+\n",
            "\n"
          ]
        },
        {
          "name": "stderr",
          "output_type": "stream",
          "text": [
            "[Stage 148:============================>                            (1 + 1) / 2]\r"
          ]
        },
        {
          "name": "stdout",
          "output_type": "stream",
          "text": [
            "+-----+------+------+------+------+------+------------------+\n",
            "|state|star_1|star_2|star_3|star_4|star_5|        Avg Rating|\n",
            "+-----+------+------+------+------+------+------------------+\n",
            "|   HI|     1|     0|     0|     0|     3|               4.0|\n",
            "|   CA|  1033|   634|   954|  2168|  5181|3.9859578736208627|\n",
            "|   LA|  2396|  1772|  2924|  6810| 12679| 3.963244422707949|\n",
            "|   AZ|  1222|   835|  1070|  2616|  5085| 3.878001477650536|\n",
            "|   NV|  1196|   866|  1128|  2442|  5118| 3.876279069767442|\n",
            "|   IN|  1378|  1077|  1486|  3519|  5953| 3.864236188772087|\n",
            "|   FL|  3377|  2201|  2911|  6522| 13417|3.8583438863092727|\n",
            "|   ID|   341|   221|   296|   560|  1344|3.8490224475018104|\n",
            "|   MO|  1657|  1257|  1780|  4065|  6645|3.8299143079719555|\n",
            "|   TN|  2006|  1568|  2197|  4505|  7684|3.7958240534521157|\n",
            "|   PA|  5585|  4534|  6328| 14013| 21232| 3.788768087905285|\n",
            "|   NJ|   994|   645|   781|  1624|  2755|3.6620091189880863|\n",
            "|   AB|   380|   339|   560|  1130|  1149|3.6545812254075325|\n",
            "|   DE|   230|   126|   181|   364|   577|3.6305818673883627|\n",
            "|   IL|   219|   120|   166|   315|   533| 3.608277900960828|\n",
            "|   CO|     0|     0|     5|     4|     1|               3.6|\n",
            "|   NC|     3|     0|     0|     0|     2|               2.6|\n",
            "+-----+------+------+------+------+------+------------------+\n",
            "\n"
          ]
        },
        {
          "name": "stderr",
          "output_type": "stream",
          "text": [
            "                                                                                \r"
          ]
        }
      ],
      "source": [
        "state_stars = r.filter(r.stars <= 5.0).groupBy('state').pivot('stars').sum('count').fillna(0).orderBy(col('state').asc())\n",
        "# state_stars.select(col(\"state\").alias(\"states\")).show()\n",
        "\n",
        "state_stars = state_stars.withColumnRenamed(\"1.0\",\"star_1\").withColumnRenamed(\"2.0\",\"star_2\").withColumnRenamed(\"3.0\",\"star_3\").withColumnRenamed(\"4.0\",\"star_4\").withColumnRenamed(\"5.0\",\"star_5\")\n",
        "\n",
        "state_stars.show()\n",
        "\n",
        "state_avg = state_stars.withColumn('Avg Rating',((state_stars.star_1 * 1 + state_stars.star_2 * 2 + state_stars.star_3 * 3 + state_stars.star_4 * 4 + state_stars.star_5 * 5)/(state_stars.star_1 + state_stars.star_2 + state_stars.star_3 + state_stars.star_4 + state_stars.star_5))).orderBy(col('Avg Rating').desc())\n",
        "state_avg.show()"
      ]
    },
    {
      "cell_type": "code",
      "execution_count": null,
      "id": "89082eb6-c614-4f70-a420-d2a1bc205cbf",
      "metadata": {
        "id": "89082eb6-c614-4f70-a420-d2a1bc205cbf",
        "outputId": "0d94dd35-fecf-45da-c5f5-c5238ecafc75"
      },
      "outputs": [
        {
          "data": {
            "image/png": "[encoded data removed]",
            "text/plain": [
              "<Figure size 640x480 with 1 Axes>"
            ]
          },
          "metadata": {},
          "output_type": "display_data"
        }
      ],
      "source": [
        "state_avg_pd = state_avg.toPandas()\n",
        "\n",
        "state_avg_pd['Avg Rating'] = state_avg_pd['Avg Rating'].astype(float)\n",
        "\n",
        "# plot\n",
        "fig, ax = plt.subplots()\n",
        "\n",
        "ax.bar(state_avg_pd['state'], state_avg_pd['Avg Rating'], width=1, linewidth = 0.7)\n",
        "\n",
        "# ax.set(xlim=(0, 8), xticks=np.arange(1, 8),\n",
        "#        ylim=(0, 8), yticks=np.arange(1, 8))\n",
        "\n",
        "plt.title('state vs avg rating')\n",
        "plt.xlabel('state')\n",
        "plt.ylabel('Avg. rating')\n",
        "\n",
        "plt.show()"
      ]
    },
    {
      "cell_type": "code",
      "execution_count": null,
      "id": "9beffe56-a65d-4ca2-adce-e69b48304b00",
      "metadata": {
        "id": "9beffe56-a65d-4ca2-adce-e69b48304b00"
      },
      "outputs": [],
      "source": []
    }
  ],
  "metadata": {
    "kernelspec": {
      "display_name": "Python [conda env:bigdata-fall22]",
      "language": "python",
      "name": "conda-env-bigdata-fall22-py"
    },
    "language_info": {
      "codemirror_mode": {
        "name": "ipython",
        "version": 3
      },
      "file_extension": ".py",
      "mimetype": "text/x-python",
      "name": "python",
      "nbconvert_exporter": "python",
      "pygments_lexer": "ipython3",
      "version": "3.7.12"
    },
    "colab": {
      "provenance": []
    }
  },
  "nbformat": 4,
  "nbformat_minor": 5
}