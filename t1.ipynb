{
  "cells": [
    {
      "cell_type": "code",
      "execution_count": null,
      "id": "f2b39374-2e21-4ffc-8b48-fff47f292702",
      "metadata": {
        "id": "f2b39374-2e21-4ffc-8b48-fff47f292702"
      },
      "outputs": [],
      "source": [
        "from pyspark.sql import SparkSession\n",
        "\n",
        "# spark = SparkSession\\\n",
        "#     .builder\\\n",
        "#     .appName(\"myApp\")\\\n",
        "#     .config(\"spark.mongodb.input.uri\", \"mongodb://mongo:27017/yelp.startup_log\")\\\n",
        "#     .config(\"spark.mongodb.output.uri\", \"mongodb://mongo:27017/local.startup_log\")\\\n",
        "#     .config(\"spark.jars.packages\", \"org.mongodb.spark:mongo-spark-connector_2.12:3.0.1\")\\\n",
        "#     .config(\"spark.sql.repl.eagerEval.enabled\", True)\\\n",
        "#     .getOrCreate()\n",
        "spark = SparkSession\\\n",
        "    .builder\\\n",
        "    .master(\"local[*]\")\\\n",
        "    .appName(\"myApp\")\\\n",
        "    .config(\"spark.mongodb.input.uri\", \"mongodb://192.168.0.86:27017/yelp.startup_log\")\\\n",
        "    .config(\"spark.mongodb.output.uri\", \"mongodb://192.168.0.86:27017/local.startup_log\")\\\n",
        "    .config(\"spark.jars.packages\", \"org.mongodb.spark:mongo-spark-connector_2.12:3.0.1\")\\\n",
        "    .config(\"spark.sql.repl.eagerEval.enabled\", True)\\\n",
        "    .getOrCreate()"
      ]
    },
    {
      "cell_type": "code",
      "execution_count": null,
      "id": "12537433",
      "metadata": {
        "id": "12537433"
      },
      "outputs": [],
      "source": [
        "review_df = spark\\\n",
        "    .read\\\n",
        "    .format(\"com.mongodb.spark.sql.DefaultSource\")\\\n",
        "    .option(\"uri\", \"mongodb://192.168.0.86:27017/local.yelp\")\\\n",
        "    .load()\n",
        "\n",
        "business_df = spark\\\n",
        "    .read\\\n",
        "    .format(\"com.mongodb.spark.sql.DefaultSource\")\\\n",
        "    .option(\"uri\", \"mongodb://192.168.0.86:27017/local.business\")\\\n",
        "    .load()\n"
      ]
    },
    {
      "cell_type": "code",
      "execution_count": null,
      "id": "62f248f4",
      "metadata": {
        "id": "62f248f4"
      },
      "outputs": [],
      "source": [
        "# business_df.show(1)"
      ]
    },
    {
      "cell_type": "code",
      "execution_count": null,
      "id": "5ba4f6e9",
      "metadata": {
        "id": "5ba4f6e9"
      },
      "outputs": [],
      "source": [
        "# review_df.show(1)"
      ]
    },
    {
      "cell_type": "code",
      "execution_count": null,
      "id": "b8efc47a",
      "metadata": {
        "id": "b8efc47a"
      },
      "outputs": [],
      "source": [
        "# from pyspark.sql.functions import avg,count\n",
        "\n",
        "# # stars cnt_views\n",
        "# agg_rev_df = review_df.groupBy(\"business_id\")\\\n",
        "#         .agg( \\\n",
        "#                 avg(\"stars\").alias(\"mean_stars\"), \\\n",
        "#                 count(\"*\").alias(\"cnt_reviews\")\n",
        "#      )\n",
        "\n",
        "# tmp = business_df.select(\"business_id\",\"categories\",\"postal_code\")\n",
        "\n",
        "# # catelist bid stars cnt_v\n",
        "\n",
        "# agg_rev_df.join(tmp, on=\"business_id\", how=\"inner\").show(5)\n",
        "\n",
        "# # review_df.groupBy(\"business_id\").mean(\"stars\").show(1)"
      ]
    },
    {
      "cell_type": "code",
      "execution_count": null,
      "id": "fdb9e66f",
      "metadata": {
        "id": "fdb9e66f"
      },
      "outputs": [],
      "source": [
        "# business_df.schema"
      ]
    },
    {
      "cell_type": "code",
      "execution_count": null,
      "id": "8d252bcd",
      "metadata": {
        "id": "8d252bcd"
      },
      "outputs": [],
      "source": [
        "# # business_df_nyc = business_df.filter( (business_df['postal_code']>\"10000\") & (business_df['postal_code']<\"10163\"))\n",
        "# # business_df_nyc = business_df.filter( (business_df['postal_code'] == \"10001\") )\n",
        "# business_df.groupBy(\"state\").count().show(50)"
      ]
    },
    {
      "cell_type": "code",
      "execution_count": null,
      "id": "05243a9b",
      "metadata": {
        "id": "05243a9b"
      },
      "outputs": [],
      "source": [
        "from pyspark.sql.functions import explode,split,avg,count,round,col"
      ]
    },
    {
      "cell_type": "code",
      "execution_count": null,
      "id": "d16ea178",
      "metadata": {
        "id": "d16ea178"
      },
      "outputs": [],
      "source": [
        "# 各州评论总数\n",
        "\n",
        "# tmp2 = business_df.select(\"business_id\",\"state\")\n",
        "# tmp2 = tmp2.join(review_df, on=\"business_id\",how=\"inner\")\\\n",
        "#     .groupBy(\"state\")\\\n",
        "#     .agg(\\\n",
        "#         count(\"*\").alias(\"cnt_reviews\"))\n",
        "\n",
        "# tmp2.orderBy(col(\"cnt_reviews\").desc())"
      ]
    },
    {
      "cell_type": "code",
      "execution_count": null,
      "id": "d5237c5a",
      "metadata": {
        "id": "d5237c5a",
        "outputId": "1b18e2be-bcbc-4b39-dab3-0f1f48ccdfa9"
      },
      "outputs": [
        {
          "data": {
            "text/html": [
              "<table border='1'>\n",
              "<tr><th>business_id</th><th>categories</th><th>state</th><th>category_name</th></tr>\n",
              "<tr><td>Pns2l4eNsfO8kk83d...</td><td>Doctors, Traditio...</td><td>CA</td><td>Doctors</td></tr>\n",
              "<tr><td>Pns2l4eNsfO8kk83d...</td><td>Doctors, Traditio...</td><td>CA</td><td> Traditional Chin...</td></tr>\n",
              "<tr><td>Pns2l4eNsfO8kk83d...</td><td>Doctors, Traditio...</td><td>CA</td><td> Naturopathic/Hol...</td></tr>\n",
              "<tr><td>Pns2l4eNsfO8kk83d...</td><td>Doctors, Traditio...</td><td>CA</td><td> Acupuncture</td></tr>\n",
              "<tr><td>Pns2l4eNsfO8kk83d...</td><td>Doctors, Traditio...</td><td>CA</td><td> Health &amp; Medical</td></tr>\n",
              "<tr><td>Pns2l4eNsfO8kk83d...</td><td>Doctors, Traditio...</td><td>CA</td><td> Nutritionists</td></tr>\n",
              "<tr><td>mpf3x-BjTdTEA3yCZ...</td><td>Shipping Centers,...</td><td>MO</td><td>Shipping Centers</td></tr>\n",
              "<tr><td>mpf3x-BjTdTEA3yCZ...</td><td>Shipping Centers,...</td><td>MO</td><td> Local Services</td></tr>\n",
              "<tr><td>mpf3x-BjTdTEA3yCZ...</td><td>Shipping Centers,...</td><td>MO</td><td> Notaries</td></tr>\n",
              "<tr><td>mpf3x-BjTdTEA3yCZ...</td><td>Shipping Centers,...</td><td>MO</td><td> Mailbox Centers</td></tr>\n",
              "<tr><td>mpf3x-BjTdTEA3yCZ...</td><td>Shipping Centers,...</td><td>MO</td><td> Printing Services</td></tr>\n",
              "<tr><td>tUFrWirKiKi_TAnsV...</td><td>Department Stores...</td><td>AZ</td><td>Department Stores</td></tr>\n",
              "<tr><td>tUFrWirKiKi_TAnsV...</td><td>Department Stores...</td><td>AZ</td><td> Shopping</td></tr>\n",
              "<tr><td>tUFrWirKiKi_TAnsV...</td><td>Department Stores...</td><td>AZ</td><td> Fashion</td></tr>\n",
              "<tr><td>tUFrWirKiKi_TAnsV...</td><td>Department Stores...</td><td>AZ</td><td> Home &amp; Garden</td></tr>\n",
              "<tr><td>tUFrWirKiKi_TAnsV...</td><td>Department Stores...</td><td>AZ</td><td> Electronics</td></tr>\n",
              "<tr><td>tUFrWirKiKi_TAnsV...</td><td>Department Stores...</td><td>AZ</td><td> Furniture Stores</td></tr>\n",
              "<tr><td>MTSW4McQd7CbVtyjq...</td><td>Restaurants, Food...</td><td>PA</td><td>Restaurants</td></tr>\n",
              "<tr><td>MTSW4McQd7CbVtyjq...</td><td>Restaurants, Food...</td><td>PA</td><td> Food</td></tr>\n",
              "<tr><td>MTSW4McQd7CbVtyjq...</td><td>Restaurants, Food...</td><td>PA</td><td> Bubble Tea</td></tr>\n",
              "</table>\n",
              "only showing top 20 rows\n"
            ],
            "text/plain": [
              "+--------------------+--------------------+-----+--------------------+\n",
              "|         business_id|          categories|state|       category_name|\n",
              "+--------------------+--------------------+-----+--------------------+\n",
              "|Pns2l4eNsfO8kk83d...|Doctors, Traditio...|   CA|             Doctors|\n",
              "|Pns2l4eNsfO8kk83d...|Doctors, Traditio...|   CA| Traditional Chin...|\n",
              "|Pns2l4eNsfO8kk83d...|Doctors, Traditio...|   CA| Naturopathic/Hol...|\n",
              "|Pns2l4eNsfO8kk83d...|Doctors, Traditio...|   CA|         Acupuncture|\n",
              "|Pns2l4eNsfO8kk83d...|Doctors, Traditio...|   CA|    Health & Medical|\n",
              "|Pns2l4eNsfO8kk83d...|Doctors, Traditio...|   CA|       Nutritionists|\n",
              "|mpf3x-BjTdTEA3yCZ...|Shipping Centers,...|   MO|    Shipping Centers|\n",
              "|mpf3x-BjTdTEA3yCZ...|Shipping Centers,...|   MO|      Local Services|\n",
              "|mpf3x-BjTdTEA3yCZ...|Shipping Centers,...|   MO|            Notaries|\n",
              "|mpf3x-BjTdTEA3yCZ...|Shipping Centers,...|   MO|     Mailbox Centers|\n",
              "|mpf3x-BjTdTEA3yCZ...|Shipping Centers,...|   MO|   Printing Services|\n",
              "|tUFrWirKiKi_TAnsV...|Department Stores...|   AZ|   Department Stores|\n",
              "|tUFrWirKiKi_TAnsV...|Department Stores...|   AZ|            Shopping|\n",
              "|tUFrWirKiKi_TAnsV...|Department Stores...|   AZ|             Fashion|\n",
              "|tUFrWirKiKi_TAnsV...|Department Stores...|   AZ|       Home & Garden|\n",
              "|tUFrWirKiKi_TAnsV...|Department Stores...|   AZ|         Electronics|\n",
              "|tUFrWirKiKi_TAnsV...|Department Stores...|   AZ|    Furniture Stores|\n",
              "|MTSW4McQd7CbVtyjq...|Restaurants, Food...|   PA|         Restaurants|\n",
              "|MTSW4McQd7CbVtyjq...|Restaurants, Food...|   PA|                Food|\n",
              "|MTSW4McQd7CbVtyjq...|Restaurants, Food...|   PA|          Bubble Tea|\n",
              "+--------------------+--------------------+-----+--------------------+\n",
              "only showing top 20 rows"
            ]
          },
          "execution_count": 10,
          "metadata": {},
          "output_type": "execute_result"
        }
      ],
      "source": [
        "\n",
        "\n",
        "# business_df_pa = business_df.filter( (business_df['state'] == \"PA\") )\n",
        "\n",
        "tmp = business_df.select(\"business_id\",\"categories\",\"state\").withColumn('category_name',explode(split('categories',',')))\n",
        "\n",
        "tmp\n"
      ]
    },
    {
      "cell_type": "code",
      "execution_count": null,
      "id": "bf6996be",
      "metadata": {
        "id": "bf6996be",
        "outputId": "dbcafc7b-9880-4bfa-e905-59795e7b2a87"
      },
      "outputs": [
        {
          "data": {
            "text/html": [
              "<table border='1'>\n",
              "<tr><th>state</th><th>category_name</th><th>mean_stars</th><th>cnt_reviews</th></tr>\n",
              "<tr><td>NJ</td><td>Car Wash</td><td>2.84</td><td>804</td></tr>\n",
              "<tr><td>PA</td><td> Hot Pot</td><td>4.09</td><td>4559</td></tr>\n",
              "<tr><td>FL</td><td> Endodontists</td><td>3.24</td><td>2025</td></tr>\n",
              "<tr><td>IN</td><td>Home &amp; Garden</td><td>3.37</td><td>1704</td></tr>\n",
              "<tr><td>FL</td><td> Solar Installation</td><td>3.5</td><td>307</td></tr>\n",
              "<tr><td>TN</td><td>Landmarks &amp; Histo...</td><td>4.22</td><td>692</td></tr>\n",
              "<tr><td>PA</td><td> Car Stereo Insta...</td><td>4.36</td><td>750</td></tr>\n",
              "<tr><td>MO</td><td>Convenience Stores</td><td>3.43</td><td>267</td></tr>\n",
              "<tr><td>NV</td><td>Real Estate Services</td><td>2.21</td><td>427</td></tr>\n",
              "<tr><td>IL</td><td> Waxing</td><td>3.42</td><td>322</td></tr>\n",
              "<tr><td>AZ</td><td>Junk Removal &amp; Ha...</td><td>3.82</td><td>65</td></tr>\n",
              "<tr><td>DE</td><td> Grocery</td><td>3.19</td><td>867</td></tr>\n",
              "<tr><td>AZ</td><td> Appliances &amp; Repair</td><td>3.29</td><td>992</td></tr>\n",
              "<tr><td>TN</td><td>Thai</td><td>3.76</td><td>3260</td></tr>\n",
              "<tr><td>TN</td><td> Car Rental</td><td>2.76</td><td>1267</td></tr>\n",
              "<tr><td>IL</td><td>Fashion</td><td>3.3</td><td>170</td></tr>\n",
              "<tr><td>IN</td><td>Diners</td><td>3.65</td><td>1939</td></tr>\n",
              "<tr><td>PA</td><td>Wheel &amp; Rim Repair</td><td>4.28</td><td>229</td></tr>\n",
              "<tr><td>NJ</td><td>Waxing</td><td>3.68</td><td>804</td></tr>\n",
              "<tr><td>MO</td><td> Recreation Centers</td><td>3.85</td><td>565</td></tr>\n",
              "</table>\n",
              "only showing top 20 rows\n"
            ],
            "text/plain": [
              "+-----+--------------------+----------+-----------+\n",
              "|state|       category_name|mean_stars|cnt_reviews|\n",
              "+-----+--------------------+----------+-----------+\n",
              "|   NJ|            Car Wash|      2.84|        804|\n",
              "|   PA|             Hot Pot|      4.09|       4559|\n",
              "|   FL|        Endodontists|      3.24|       2025|\n",
              "|   IN|       Home & Garden|      3.37|       1704|\n",
              "|   FL|  Solar Installation|       3.5|        307|\n",
              "|   TN|Landmarks & Histo...|      4.22|        692|\n",
              "|   PA| Car Stereo Insta...|      4.36|        750|\n",
              "|   MO|  Convenience Stores|      3.43|        267|\n",
              "|   NV|Real Estate Services|      2.21|        427|\n",
              "|   IL|              Waxing|      3.42|        322|\n",
              "|   AZ|Junk Removal & Ha...|      3.82|         65|\n",
              "|   DE|             Grocery|      3.19|        867|\n",
              "|   AZ| Appliances & Repair|      3.29|        992|\n",
              "|   TN|                Thai|      3.76|       3260|\n",
              "|   TN|          Car Rental|      2.76|       1267|\n",
              "|   IL|             Fashion|       3.3|        170|\n",
              "|   IN|              Diners|      3.65|       1939|\n",
              "|   PA|  Wheel & Rim Repair|      4.28|        229|\n",
              "|   NJ|              Waxing|      3.68|        804|\n",
              "|   MO|  Recreation Centers|      3.85|        565|\n",
              "+-----+--------------------+----------+-----------+\n",
              "only showing top 20 rows"
            ]
          },
          "execution_count": 12,
          "metadata": {},
          "output_type": "execute_result"
        }
      ],
      "source": [
        "\n",
        "tmp = tmp.join(review_df, on=\"business_id\",how=\"inner\")\\\n",
        "    .groupBy(\"state\", \"category_name\")\\\n",
        "    .agg(\\\n",
        "        round(avg(\"stars\"), 2).alias(\"mean_stars\"), \\\n",
        "        count(\"*\").alias(\"cnt_reviews\"))\\\n",
        "\n",
        "tmp"
      ]
    },
    {
      "cell_type": "code",
      "execution_count": null,
      "id": "7cf97615",
      "metadata": {
        "id": "7cf97615",
        "outputId": "893a50e0-5e22-4538-9df0-2c9128197fd8"
      },
      "outputs": [
        {
          "data": {
            "text/plain": [
              "21861"
            ]
          },
          "execution_count": 14,
          "metadata": {},
          "output_type": "execute_result"
        }
      ],
      "source": [
        "tmp.count()"
      ]
    },
    {
      "cell_type": "code",
      "execution_count": null,
      "id": "6fc00632",
      "metadata": {
        "id": "6fc00632"
      },
      "outputs": [],
      "source": [
        "# from pyspark.sql.functions import col,bround\n",
        "\n",
        "# tmp = tmp.select(\"postal_code\",\"category_name\",round(tmp[\"mean_stars\"], 2).alias(\"avg_stars\"), \"cnt_reviews\").orderBy(col(\"cnt_reviews\").desc())\n",
        "# tmp"
      ]
    },
    {
      "cell_type": "code",
      "execution_count": null,
      "id": "deaff626",
      "metadata": {
        "id": "deaff626"
      },
      "outputs": [],
      "source": [
        "file_path =  \"file:///D:/Program Files/PROJECT/out1\"\n",
        "tmp.coalesce(1).write.option(\"header\",\"true\").format(\"csv\").save(\"out1\")"
      ]
    }
  ],
  "metadata": {
    "kernelspec": {
      "display_name": "Python 3.11.0 64-bit",
      "language": "python",
      "name": "python3"
    },
    "language_info": {
      "codemirror_mode": {
        "name": "ipython",
        "version": 3
      },
      "file_extension": ".py",
      "mimetype": "text/x-python",
      "name": "python",
      "nbconvert_exporter": "python",
      "pygments_lexer": "ipython3",
      "version": "3.11.0"
    },
    "vscode": {
      "interpreter": {
        "hash": "3c735adcabe6fbc37afe7ca3389fd3961f4864c18377415bd09ec533cf51b765"
      }
    },
    "colab": {
      "provenance": []
    }
  },
  "nbformat": 4,
  "nbformat_minor": 5
}