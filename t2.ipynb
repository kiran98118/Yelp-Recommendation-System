{
  "cells": [
    {
      "cell_type": "code",
      "execution_count": null,
      "id": "f2b39374-2e21-4ffc-8b48-fff47f292702",
      "metadata": {
        "id": "f2b39374-2e21-4ffc-8b48-fff47f292702"
      },
      "outputs": [],
      "source": [
        "from pyspark.sql import SparkSession\n",
        "\n",
        "# spark = SparkSession\\\n",
        "#     .builder\\\n",
        "#     .appName(\"myApp\")\\\n",
        "#     .config(\"spark.mongodb.input.uri\", \"mongodb://mongo:27017/yelp.startup_log\")\\\n",
        "#     .config(\"spark.mongodb.output.uri\", \"mongodb://mongo:27017/local.startup_log\")\\\n",
        "#     .config(\"spark.jars.packages\", \"org.mongodb.spark:mongo-spark-connector_2.12:3.0.1\")\\\n",
        "#     .config(\"spark.sql.repl.eagerEval.enabled\", True)\\\n",
        "#     .getOrCreate()\n",
        "spark = SparkSession\\\n",
        "    .builder\\\n",
        "    .master(\"local[*]\")\\\n",
        "    .appName(\"myApp\")\\\n",
        "    .config(\"spark.mongodb.input.uri\", \"mongodb://192.168.0.86:27017/yelp.startup_log\")\\\n",
        "    .config(\"spark.mongodb.output.uri\", \"mongodb://192.168.0.86:27017/local.startup_log\")\\\n",
        "    .config(\"spark.jars.packages\", \"org.mongodb.spark:mongo-spark-connector_2.12:3.0.1\")\\\n",
        "    .config(\"spark.sql.repl.eagerEval.enabled\", True)\\\n",
        "    .getOrCreate()"
      ]
    },
    {
      "cell_type": "code",
      "execution_count": null,
      "id": "12537433",
      "metadata": {
        "id": "12537433"
      },
      "outputs": [],
      "source": [
        "review_df = spark\\\n",
        "    .read\\\n",
        "    .format(\"com.mongodb.spark.sql.DefaultSource\")\\\n",
        "    .option(\"uri\", \"mongodb://192.168.0.86:27017/local.yelp\")\\\n",
        "    .load()\n",
        "\n",
        "business_df = spark\\\n",
        "    .read\\\n",
        "    .format(\"com.mongodb.spark.sql.DefaultSource\")\\\n",
        "    .option(\"uri\", \"mongodb://192.168.0.86:27017/local.business\")\\\n",
        "    .load()\n"
      ]
    },
    {
      "cell_type": "code",
      "execution_count": null,
      "id": "05243a9b",
      "metadata": {
        "id": "05243a9b"
      },
      "outputs": [],
      "source": [
        "from pyspark.sql.functions import explode,split,avg,count,round,col\n",
        "from pyspark.sql.types import IntegerType"
      ]
    },
    {
      "cell_type": "code",
      "execution_count": null,
      "id": "d5237c5a",
      "metadata": {
        "id": "d5237c5a"
      },
      "outputs": [],
      "source": [
        "\n",
        "\n",
        "business_df_ph = business_df.withColumn(\"postal_code_int\", business_df[\"postal_code\"].cast(IntegerType()))\n",
        "\n",
        "# business_df_ph\n"
      ]
    },
    {
      "cell_type": "code",
      "execution_count": null,
      "id": "c0c56dd4",
      "metadata": {
        "id": "c0c56dd4"
      },
      "outputs": [],
      "source": [
        "business_df_ph = business_df_ph.filter( (business_df_ph['postal_code_int'] >= 19102 ) &   (business_df_ph['postal_code_int'] <= 19154 ) )\n",
        "\n",
        "bss_ph_list = list(\n",
        "    business_df_ph.select('business_id').toPandas()['business_id']\n",
        ")\n",
        "\n",
        "# bss_ph_list = business_df_ph.select(\"business_id\").rdd.flatMap(lambda x: x).collect()\n",
        "\n",
        "tmp = business_df_ph.select(\"business_id\",\"categories\",\"postal_code\").withColumn('category_name',explode(split('categories',',')))\n",
        "\n",
        "# tmp"
      ]
    },
    {
      "cell_type": "code",
      "execution_count": null,
      "id": "bf6996be",
      "metadata": {
        "id": "bf6996be",
        "outputId": "6746c48b-ac90-42dd-b6c2-de1e8dae1ef3"
      },
      "outputs": [
        {
          "data": {
            "text/html": [
              "<table border='1'>\n",
              "<tr><th>postal_code</th><th>category_name</th><th>mean_stars</th><th>cnt_reviews</th></tr>\n",
              "<tr><td>19147</td><td> Thai</td><td>3.84</td><td>1015</td></tr>\n",
              "<tr><td>19107</td><td> Bars</td><td>3.83</td><td>32548</td></tr>\n",
              "<tr><td>19104</td><td>Car Rental</td><td>3.82</td><td>38</td></tr>\n",
              "<tr><td>19103</td><td> Cardio Classes</td><td>4.05</td><td>172</td></tr>\n",
              "<tr><td>19146</td><td>Printing Services</td><td>4.45</td><td>11</td></tr>\n",
              "<tr><td>19150</td><td>Pizza</td><td>2.0</td><td>47</td></tr>\n",
              "<tr><td>19103</td><td> Specialty Schools</td><td>4.1</td><td>224</td></tr>\n",
              "<tr><td>19103</td><td> Health &amp; Medical</td><td>3.48</td><td>2865</td></tr>\n",
              "<tr><td>19153</td><td>Restaurants</td><td>2.71</td><td>824</td></tr>\n",
              "<tr><td>19102</td><td>Tobacco Shops</td><td>4.46</td><td>143</td></tr>\n",
              "<tr><td>19119</td><td> American (New)</td><td>3.8</td><td>1474</td></tr>\n",
              "<tr><td>19131</td><td>Urgent Care</td><td>1.89</td><td>35</td></tr>\n",
              "<tr><td>19147</td><td> Irish</td><td>3.83</td><td>240</td></tr>\n",
              "<tr><td>19128</td><td> Local Services</td><td>3.79</td><td>758</td></tr>\n",
              "<tr><td>19148</td><td> Beer</td><td>3.38</td><td>1102</td></tr>\n",
              "<tr><td>19116</td><td> Event Planning &amp;...</td><td>3.77</td><td>167</td></tr>\n",
              "<tr><td>19123</td><td> Bakeries</td><td>4.02</td><td>461</td></tr>\n",
              "<tr><td>19125</td><td> Automotive</td><td>3.71</td><td>526</td></tr>\n",
              "<tr><td>19107</td><td>Cocktail Bars</td><td>4.29</td><td>1217</td></tr>\n",
              "<tr><td>19122</td><td> Art Galleries</td><td>4.73</td><td>81</td></tr>\n",
              "</table>\n",
              "only showing top 20 rows\n"
            ],
            "text/plain": [
              "+-----------+--------------------+----------+-----------+\n",
              "|postal_code|       category_name|mean_stars|cnt_reviews|\n",
              "+-----------+--------------------+----------+-----------+\n",
              "|      19147|                Thai|      3.84|       1015|\n",
              "|      19107|                Bars|      3.83|      32548|\n",
              "|      19148|                Beer|      3.38|       1102|\n",
              "|      19104|          Car Rental|      3.82|         38|\n",
              "|      19122|       Art Galleries|      4.73|         81|\n",
              "|      19103|      Cardio Classes|      4.05|        172|\n",
              "|      19146|   Printing Services|      4.45|         11|\n",
              "|      19150|               Pizza|       2.0|         47|\n",
              "|      19103|   Specialty Schools|       4.1|        224|\n",
              "|      19103|    Health & Medical|      3.48|       2865|\n",
              "|      19153|         Restaurants|      2.71|        824|\n",
              "|      19102|       Tobacco Shops|      4.46|        143|\n",
              "|      19119|      American (New)|       3.8|       1474|\n",
              "|      19131|         Urgent Care|      1.89|         35|\n",
              "|      19147|               Irish|      3.83|        240|\n",
              "|      19116| Event Planning &...|      3.77|        167|\n",
              "|      19123|            Bakeries|      4.02|        461|\n",
              "|      19125|          Automotive|      3.71|        526|\n",
              "|      19107|       Cocktail Bars|      4.29|       1217|\n",
              "|      19137|            Caterers|      3.14|        148|\n",
              "+-----------+--------------------+----------+-----------+\n",
              "only showing top 20 rows"
            ]
          },
          "execution_count": 6,
          "metadata": {},
          "output_type": "execute_result"
        }
      ],
      "source": [
        "\n",
        "review_df_tmp = review_df.filter(col(\"business_id\").isin(bss_ph_list))\n",
        "\n",
        "tmp = tmp.join(review_df_tmp, on=\"business_id\",how=\"inner\")\\\n",
        "    .groupBy(\"postal_code\", \"category_name\")\\\n",
        "    .agg(\\\n",
        "        round(avg(\"stars\"), 2).alias(\"mean_stars\"), \\\n",
        "        count(\"*\").alias(\"cnt_reviews\"))\\\n",
        "\n",
        "tmp"
      ]
    },
    {
      "cell_type": "code",
      "execution_count": null,
      "id": "7cf97615",
      "metadata": {
        "id": "7cf97615",
        "outputId": "112b8907-f5af-48a7-f3aa-d525565e6794"
      },
      "outputs": [
        {
          "data": {
            "text/html": [
              "<table border='1'>\n",
              "<tr><th>postal_code</th><th>category_name</th><th>mean_stars</th><th>cnt_reviews</th></tr>\n",
              "<tr><td>19147</td><td> Thai</td><td>3.84</td><td>1015</td></tr>\n",
              "<tr><td>19107</td><td> Bars</td><td>3.83</td><td>32548</td></tr>\n",
              "<tr><td>19148</td><td> Beer</td><td>3.38</td><td>1102</td></tr>\n",
              "<tr><td>19128</td><td> Local Services</td><td>3.79</td><td>758</td></tr>\n",
              "<tr><td>19103</td><td> Specialty Schools</td><td>4.1</td><td>224</td></tr>\n",
              "<tr><td>19103</td><td> Health &amp; Medical</td><td>3.48</td><td>2865</td></tr>\n",
              "<tr><td>19153</td><td>Restaurants</td><td>2.71</td><td>824</td></tr>\n",
              "<tr><td>19119</td><td> American (New)</td><td>3.8</td><td>1474</td></tr>\n",
              "<tr><td>19147</td><td> Irish</td><td>3.83</td><td>240</td></tr>\n",
              "<tr><td>19123</td><td> Bakeries</td><td>4.02</td><td>461</td></tr>\n",
              "<tr><td>19125</td><td> Automotive</td><td>3.71</td><td>526</td></tr>\n",
              "<tr><td>19107</td><td>Cocktail Bars</td><td>4.29</td><td>1217</td></tr>\n",
              "<tr><td>19114</td><td> Beauty &amp; Spas</td><td>3.46</td><td>513</td></tr>\n",
              "<tr><td>19107</td><td> Food</td><td>4.1</td><td>40631</td></tr>\n",
              "<tr><td>19146</td><td>Bars</td><td>3.75</td><td>583</td></tr>\n",
              "<tr><td>19147</td><td> Lounges</td><td>3.08</td><td>931</td></tr>\n",
              "<tr><td>19102</td><td> Gyms</td><td>2.99</td><td>321</td></tr>\n",
              "<tr><td>19130</td><td> Shopping</td><td>4.21</td><td>2232</td></tr>\n",
              "<tr><td>19116</td><td> Food</td><td>3.52</td><td>800</td></tr>\n",
              "<tr><td>19147</td><td> Pubs</td><td>3.67</td><td>2874</td></tr>\n",
              "</table>\n",
              "only showing top 20 rows\n"
            ],
            "text/plain": [
              "+-----------+--------------------+----------+-----------+\n",
              "|postal_code|       category_name|mean_stars|cnt_reviews|\n",
              "+-----------+--------------------+----------+-----------+\n",
              "|      19147|                Thai|      3.84|       1015|\n",
              "|      19107|                Bars|      3.83|      32548|\n",
              "|      19103|    Health & Medical|      3.48|       2865|\n",
              "|      19153|         Restaurants|      2.71|        824|\n",
              "|      19119|      American (New)|       3.8|       1474|\n",
              "|      19123|            Bakeries|      4.02|        461|\n",
              "|      19148|                Beer|      3.38|       1102|\n",
              "|      19128|      Local Services|      3.79|        758|\n",
              "|      19103|   Specialty Schools|       4.1|        224|\n",
              "|      19147|               Irish|      3.83|        240|\n",
              "|      19125|          Automotive|      3.71|        526|\n",
              "|      19107|       Cocktail Bars|      4.29|       1217|\n",
              "|      19114|       Beauty & Spas|      3.46|        513|\n",
              "|      19107|                Food|       4.1|      40631|\n",
              "|      19102|                Gyms|      2.99|        321|\n",
              "|      19147|                Pubs|      3.67|       2874|\n",
              "|      19116|                Food|      3.52|        800|\n",
              "|      19130|                Yoga|      4.73|        218|\n",
              "|      19146|                Bars|      3.75|        583|\n",
              "|      19130| Professional Ser...|      4.33|        385|\n",
              "+-----------+--------------------+----------+-----------+\n",
              "only showing top 20 rows"
            ]
          },
          "execution_count": 7,
          "metadata": {},
          "output_type": "execute_result"
        }
      ],
      "source": [
        "# filter out row where \"cnt_reviews\"<200\n",
        "tmp_filter = tmp.where(tmp[\"cnt_reviews\"]>200)\n",
        "tmp_filter"
      ]
    },
    {
      "cell_type": "code",
      "execution_count": null,
      "id": "6fc00632",
      "metadata": {
        "id": "6fc00632"
      },
      "outputs": [],
      "source": [
        "# from pyspark.sql.functions import col,bround\n",
        "\n",
        "# tmp = tmp.select(\"postal_code\",\"category_name\",round(tmp[\"mean_stars\"], 2).alias(\"avg_stars\"), \"cnt_reviews\").orderBy(col(\"cnt_reviews\").desc())\n",
        "# tmp"
      ]
    },
    {
      "cell_type": "code",
      "execution_count": null,
      "id": "deaff626",
      "metadata": {
        "id": "deaff626"
      },
      "outputs": [],
      "source": [
        "\n",
        "tmp_filter.coalesce(1).write.option(\"header\",\"true\").format(\"csv\").save(\"out22\")"
      ]
    }
  ],
  "metadata": {
    "kernelspec": {
      "display_name": "Python 3.11.0 64-bit",
      "language": "python",
      "name": "python3"
    },
    "language_info": {
      "codemirror_mode": {
        "name": "ipython",
        "version": 3
      },
      "file_extension": ".py",
      "mimetype": "text/x-python",
      "name": "python",
      "nbconvert_exporter": "python",
      "pygments_lexer": "ipython3",
      "version": "3.11.0"
    },
    "vscode": {
      "interpreter": {
        "hash": "3c735adcabe6fbc37afe7ca3389fd3961f4864c18377415bd09ec533cf51b765"
      }
    },
    "colab": {
      "provenance": []
    }
  },
  "nbformat": 4,
  "nbformat_minor": 5
}